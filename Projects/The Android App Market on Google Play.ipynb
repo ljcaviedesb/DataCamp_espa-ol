{
 "cells": [
  {
   "cell_type": "code",
   "execution_count": 1,
   "id": "1987a783",
   "metadata": {},
   "outputs": [],
   "source": [
    "import pandas as pd\n",
    "import numpy as np\n",
    "import matplotlib.pyplot as plt"
   ]
  },
  {
   "cell_type": "markdown",
   "id": "51626afd",
   "metadata": {},
   "source": [
    "Buscaremos información en los datos para diseñar estrategias que impulsen el crecimiento y la retención de aplicaciones móviles.\n",
    "\n",
    "1.  apps.csv: contains all the details of the applications on Google Play. There are 13 features that describe a given app.\n",
    "2.  user_reviews.csv: contains 100 reviews for each app, most helpful first. The text in each review has been pre-processed and attributed with three new features: Sentiment (Positive, Negative or Neutral), Sentiment Polarity and Sentiment Subjectivity."
   ]
  },
  {
   "cell_type": "code",
   "execution_count": 2,
   "id": "2ec74672",
   "metadata": {},
   "outputs": [
    {
     "name": "stdout",
     "output_type": "stream",
     "text": [
      "(9659, 13)\n"
     ]
    },
    {
     "data": {
      "text/html": [
       "<div>\n",
       "<style scoped>\n",
       "    .dataframe tbody tr th:only-of-type {\n",
       "        vertical-align: middle;\n",
       "    }\n",
       "\n",
       "    .dataframe tbody tr th {\n",
       "        vertical-align: top;\n",
       "    }\n",
       "\n",
       "    .dataframe thead th {\n",
       "        text-align: right;\n",
       "    }\n",
       "</style>\n",
       "<table border=\"1\" class=\"dataframe\">\n",
       "  <thead>\n",
       "    <tr style=\"text-align: right;\">\n",
       "      <th></th>\n",
       "      <th>App</th>\n",
       "      <th>Category</th>\n",
       "      <th>Rating</th>\n",
       "      <th>Reviews</th>\n",
       "      <th>Size</th>\n",
       "      <th>Installs</th>\n",
       "      <th>Type</th>\n",
       "      <th>Price</th>\n",
       "      <th>Content Rating</th>\n",
       "      <th>Genres</th>\n",
       "      <th>Last Updated</th>\n",
       "      <th>Current Ver</th>\n",
       "      <th>Android Ver</th>\n",
       "    </tr>\n",
       "  </thead>\n",
       "  <tbody>\n",
       "    <tr>\n",
       "      <th>0</th>\n",
       "      <td>Photo Editor &amp; Candy Camera &amp; Grid &amp; ScrapBook</td>\n",
       "      <td>ART_AND_DESIGN</td>\n",
       "      <td>4.1</td>\n",
       "      <td>159</td>\n",
       "      <td>19.0</td>\n",
       "      <td>10,000+</td>\n",
       "      <td>Free</td>\n",
       "      <td>0</td>\n",
       "      <td>Everyone</td>\n",
       "      <td>Art &amp; Design</td>\n",
       "      <td>January 7, 2018</td>\n",
       "      <td>1.0.0</td>\n",
       "      <td>4.0.3 and up</td>\n",
       "    </tr>\n",
       "    <tr>\n",
       "      <th>1</th>\n",
       "      <td>Coloring book moana</td>\n",
       "      <td>ART_AND_DESIGN</td>\n",
       "      <td>3.9</td>\n",
       "      <td>967</td>\n",
       "      <td>14.0</td>\n",
       "      <td>500,000+</td>\n",
       "      <td>Free</td>\n",
       "      <td>0</td>\n",
       "      <td>Everyone</td>\n",
       "      <td>Art &amp; Design;Pretend Play</td>\n",
       "      <td>January 15, 2018</td>\n",
       "      <td>2.0.0</td>\n",
       "      <td>4.0.3 and up</td>\n",
       "    </tr>\n",
       "  </tbody>\n",
       "</table>\n",
       "</div>"
      ],
      "text/plain": [
       "                                              App        Category  Rating  \\\n",
       "0  Photo Editor & Candy Camera & Grid & ScrapBook  ART_AND_DESIGN     4.1   \n",
       "1                             Coloring book moana  ART_AND_DESIGN     3.9   \n",
       "\n",
       "   Reviews  Size  Installs  Type Price Content Rating  \\\n",
       "0      159  19.0   10,000+  Free     0       Everyone   \n",
       "1      967  14.0  500,000+  Free     0       Everyone   \n",
       "\n",
       "                      Genres      Last Updated Current Ver   Android Ver  \n",
       "0               Art & Design   January 7, 2018       1.0.0  4.0.3 and up  \n",
       "1  Art & Design;Pretend Play  January 15, 2018       2.0.0  4.0.3 and up  "
      ]
     },
     "execution_count": 2,
     "metadata": {},
     "output_type": "execute_result"
    }
   ],
   "source": [
    "apps = pd.read_csv('datasets/apps.csv', index_col=0)\n",
    "print(apps.shape)\n",
    "apps.head(2)"
   ]
  },
  {
   "cell_type": "code",
   "execution_count": 3,
   "id": "26e50e0d",
   "metadata": {},
   "outputs": [
    {
     "name": "stdout",
     "output_type": "stream",
     "text": [
      "Total number of apps in the dataset =  9659\n"
     ]
    },
    {
     "data": {
      "text/html": [
       "<div>\n",
       "<style scoped>\n",
       "    .dataframe tbody tr th:only-of-type {\n",
       "        vertical-align: middle;\n",
       "    }\n",
       "\n",
       "    .dataframe tbody tr th {\n",
       "        vertical-align: top;\n",
       "    }\n",
       "\n",
       "    .dataframe thead th {\n",
       "        text-align: right;\n",
       "    }\n",
       "</style>\n",
       "<table border=\"1\" class=\"dataframe\">\n",
       "  <thead>\n",
       "    <tr style=\"text-align: right;\">\n",
       "      <th></th>\n",
       "      <th>App</th>\n",
       "      <th>Category</th>\n",
       "      <th>Rating</th>\n",
       "      <th>Reviews</th>\n",
       "      <th>Size</th>\n",
       "      <th>Installs</th>\n",
       "      <th>Type</th>\n",
       "      <th>Price</th>\n",
       "      <th>Content Rating</th>\n",
       "      <th>Genres</th>\n",
       "      <th>Last Updated</th>\n",
       "      <th>Current Ver</th>\n",
       "      <th>Android Ver</th>\n",
       "    </tr>\n",
       "  </thead>\n",
       "  <tbody>\n",
       "    <tr>\n",
       "      <th>0</th>\n",
       "      <td>Photo Editor &amp; Candy Camera &amp; Grid &amp; ScrapBook</td>\n",
       "      <td>ART_AND_DESIGN</td>\n",
       "      <td>4.1</td>\n",
       "      <td>159</td>\n",
       "      <td>19.0</td>\n",
       "      <td>10,000+</td>\n",
       "      <td>Free</td>\n",
       "      <td>0</td>\n",
       "      <td>Everyone</td>\n",
       "      <td>Art &amp; Design</td>\n",
       "      <td>January 7, 2018</td>\n",
       "      <td>1.0.0</td>\n",
       "      <td>4.0.3 and up</td>\n",
       "    </tr>\n",
       "    <tr>\n",
       "      <th>1</th>\n",
       "      <td>Coloring book moana</td>\n",
       "      <td>ART_AND_DESIGN</td>\n",
       "      <td>3.9</td>\n",
       "      <td>967</td>\n",
       "      <td>14.0</td>\n",
       "      <td>500,000+</td>\n",
       "      <td>Free</td>\n",
       "      <td>0</td>\n",
       "      <td>Everyone</td>\n",
       "      <td>Art &amp; Design;Pretend Play</td>\n",
       "      <td>January 15, 2018</td>\n",
       "      <td>2.0.0</td>\n",
       "      <td>4.0.3 and up</td>\n",
       "    </tr>\n",
       "  </tbody>\n",
       "</table>\n",
       "</div>"
      ],
      "text/plain": [
       "                                              App        Category  Rating  \\\n",
       "0  Photo Editor & Candy Camera & Grid & ScrapBook  ART_AND_DESIGN     4.1   \n",
       "1                             Coloring book moana  ART_AND_DESIGN     3.9   \n",
       "\n",
       "   Reviews  Size  Installs  Type Price Content Rating  \\\n",
       "0      159  19.0   10,000+  Free     0       Everyone   \n",
       "1      967  14.0  500,000+  Free     0       Everyone   \n",
       "\n",
       "                      Genres      Last Updated Current Ver   Android Ver  \n",
       "0               Art & Design   January 7, 2018       1.0.0  4.0.3 and up  \n",
       "1  Art & Design;Pretend Play  January 15, 2018       2.0.0  4.0.3 and up  "
      ]
     },
     "execution_count": 3,
     "metadata": {},
     "output_type": "execute_result"
    }
   ],
   "source": [
    "apps['App'].duplicated().sum() # Para revisar si hay apps duplicadas en el dataframe\n",
    "\n",
    "# En caso de haber duplicados o incluso para trabajar con una base de datos limpia eliminamos los duplicaods\n",
    "#\n",
    "# Drop duplicates from apps_with_duplicates\n",
    "apps = apps.drop_duplicates()\n",
    "\n",
    "# Print the total number of apps\n",
    "print('Total number of apps in the dataset = ', apps['App'].count())\n",
    "\n",
    "# Have a look at a random sample of 5 rows\n",
    "apps.head(2)"
   ]
  },
  {
   "cell_type": "markdown",
   "id": "187bc925",
   "metadata": {},
   "source": [
    "A primera vista vemos que los valores en apps[\"Installs\"] traen un '+' al final del número y ','. Parte de limpiar datos es eliminar estos caracteres. Revisemos si en el resto los datos son coherentes. Raiting, Reviews, Si, Installs y Price tienen que ser tipo float o int."
   ]
  },
  {
   "cell_type": "code",
   "execution_count": 4,
   "id": "341cb06d",
   "metadata": {},
   "outputs": [
    {
     "name": "stdout",
     "output_type": "stream",
     "text": [
      "<class 'pandas.core.frame.DataFrame'>\n",
      "Int64Index: 9659 entries, 0 to 10840\n",
      "Data columns (total 13 columns):\n",
      " #   Column          Non-Null Count  Dtype  \n",
      "---  ------          --------------  -----  \n",
      " 0   App             9659 non-null   object \n",
      " 1   Category        9659 non-null   object \n",
      " 2   Rating          8196 non-null   float64\n",
      " 3   Reviews         9659 non-null   int64  \n",
      " 4   Size            8432 non-null   float64\n",
      " 5   Installs        9659 non-null   object \n",
      " 6   Type            9659 non-null   object \n",
      " 7   Price           9659 non-null   object \n",
      " 8   Content Rating  9659 non-null   object \n",
      " 9   Genres          9659 non-null   object \n",
      " 10  Last Updated    9659 non-null   object \n",
      " 11  Current Ver     9651 non-null   object \n",
      " 12  Android Ver     9657 non-null   object \n",
      "dtypes: float64(2), int64(1), object(10)\n",
      "memory usage: 1.0+ MB\n"
     ]
    }
   ],
   "source": [
    "apps.info()"
   ]
  },
  {
   "cell_type": "markdown",
   "id": "9a85cf0e",
   "metadata": {},
   "source": [
    "Efectivamente \"Installs\" es tipo object, y adicional vemos que \"Price\" también es tipo object, si"
   ]
  },
  {
   "cell_type": "code",
   "execution_count": 5,
   "id": "5d4d4e3a",
   "metadata": {},
   "outputs": [
    {
     "data": {
      "text/plain": [
       "['$4.99', '$4.99', '$3.99', '$3.99', '$6.99']"
      ]
     },
     "execution_count": 5,
     "metadata": {},
     "output_type": "execute_result"
    }
   ],
   "source": [
    "l = []\n",
    "for value in apps.Price:\n",
    "    if value.isdigit()==False:\n",
    "        l.append(value)\n",
    "l[:5]"
   ]
  },
  {
   "cell_type": "markdown",
   "id": "36c84b25",
   "metadata": {},
   "source": [
    "Ya sabemos que el otro caracter que tenemos que eliminar es $"
   ]
  },
  {
   "cell_type": "code",
   "execution_count": 6,
   "id": "bb38d960",
   "metadata": {},
   "outputs": [
    {
     "name": "stdout",
     "output_type": "stream",
     "text": [
      "<class 'pandas.core.frame.DataFrame'>\n",
      "Int64Index: 9659 entries, 0 to 10840\n",
      "Data columns (total 13 columns):\n",
      " #   Column          Non-Null Count  Dtype  \n",
      "---  ------          --------------  -----  \n",
      " 0   App             9659 non-null   object \n",
      " 1   Category        9659 non-null   object \n",
      " 2   Rating          8196 non-null   float64\n",
      " 3   Reviews         9659 non-null   int64  \n",
      " 4   Size            8432 non-null   float64\n",
      " 5   Installs        9659 non-null   float64\n",
      " 6   Type            9659 non-null   object \n",
      " 7   Price           9659 non-null   float64\n",
      " 8   Content Rating  9659 non-null   object \n",
      " 9   Genres          9659 non-null   object \n",
      " 10  Last Updated    9659 non-null   object \n",
      " 11  Current Ver     9651 non-null   object \n",
      " 12  Android Ver     9657 non-null   object \n",
      "dtypes: float64(4), int64(1), object(8)\n",
      "memory usage: 1.0+ MB\n"
     ]
    }
   ],
   "source": [
    "# List of characters to remove\n",
    "chars_to_remove = ['+', ',', '$']\n",
    "# List of column names to clean\n",
    "cols_to_clean = ['Installs', 'Price']\n",
    "\n",
    "# Loop for each column in cols_to_clean\n",
    "for col in cols_to_clean:\n",
    "    # Loop for each char in chars_to_remove\n",
    "    for char in chars_to_remove:\n",
    "        # Replace the character with an empty string\n",
    "        apps[col] = apps[col].apply(lambda x: x.replace(char, ''))\n",
    "        \n",
    "apps = apps.astype({'Installs':float})\n",
    "apps = apps.astype({'Price':float})\n",
    "apps.info()"
   ]
  },
  {
   "cell_type": "markdown",
   "id": "40d04a31",
   "metadata": {},
   "source": [
    "Ya esta limpia la tabla de datos. Ahora exploremos las apps. Google play categoriza las apps y con los datos que tenemos podemos ver cuál tiene mayor puntaje, cuál se ha instalado más instalaciones (app dominante), cuáles son las categorías con menos apps...\n",
    "\n",
    "Hay una forma de imprimir plots en el notebook y que podamos \"jugar con la gráfica\" con [Plotly](https://www.tutorialspoint.com/plotly/plotly_plotting_inline_with_jupyter_notebook.htm)"
   ]
  },
  {
   "cell_type": "code",
   "execution_count": 7,
   "id": "0901482a",
   "metadata": {},
   "outputs": [
    {
     "data": {
      "text/html": [
       "        <script type=\"text/javascript\">\n",
       "        window.PlotlyConfig = {MathJaxConfig: 'local'};\n",
       "        if (window.MathJax && window.MathJax.Hub && window.MathJax.Hub.Config) {window.MathJax.Hub.Config({SVG: {font: \"STIX-Web\"}});}\n",
       "        if (typeof require !== 'undefined') {\n",
       "        require.undef(\"plotly\");\n",
       "        requirejs.config({\n",
       "            paths: {\n",
       "                'plotly': ['https://cdn.plot.ly/plotly-2.12.1.min']\n",
       "            }\n",
       "        });\n",
       "        require(['plotly'], function(Plotly) {\n",
       "            window._Plotly = Plotly;\n",
       "        });\n",
       "        }\n",
       "        </script>\n",
       "        "
      ]
     },
     "metadata": {},
     "output_type": "display_data"
    },
    {
     "name": "stdout",
     "output_type": "stream",
     "text": [
      "Number of categories =  33\n"
     ]
    },
    {
     "data": {
      "application/vnd.plotly.v1+json": {
       "config": {
        "linkText": "Export to plot.ly",
        "plotlyServerURL": "https://plot.ly",
        "showLink": false
       },
       "data": [
        {
         "type": "bar",
         "x": [
          "FAMILY",
          "GAME",
          "TOOLS",
          "BUSINESS",
          "MEDICAL",
          "PERSONALIZATION",
          "PRODUCTIVITY",
          "LIFESTYLE",
          "FINANCE",
          "SPORTS",
          "COMMUNICATION",
          "HEALTH_AND_FITNESS",
          "PHOTOGRAPHY",
          "NEWS_AND_MAGAZINES",
          "SOCIAL",
          "BOOKS_AND_REFERENCE",
          "TRAVEL_AND_LOCAL",
          "SHOPPING",
          "DATING",
          "VIDEO_PLAYERS",
          "MAPS_AND_NAVIGATION",
          "EDUCATION",
          "FOOD_AND_DRINK",
          "ENTERTAINMENT",
          "AUTO_AND_VEHICLES",
          "LIBRARIES_AND_DEMO",
          "WEATHER",
          "HOUSE_AND_HOME",
          "EVENTS",
          "ART_AND_DESIGN",
          "PARENTING",
          "COMICS",
          "BEAUTY"
         ],
         "y": [
          1832,
          959,
          827,
          420,
          395,
          376,
          374,
          369,
          345,
          325,
          315,
          288,
          281,
          254,
          239,
          222,
          219,
          202,
          171,
          163,
          131,
          119,
          112,
          102,
          85,
          84,
          79,
          74,
          64,
          64,
          60,
          56,
          53
         ]
        }
       ],
       "layout": {
        "template": {
         "data": {
          "bar": [
           {
            "error_x": {
             "color": "#2a3f5f"
            },
            "error_y": {
             "color": "#2a3f5f"
            },
            "marker": {
             "line": {
              "color": "#E5ECF6",
              "width": 0.5
             },
             "pattern": {
              "fillmode": "overlay",
              "size": 10,
              "solidity": 0.2
             }
            },
            "type": "bar"
           }
          ],
          "barpolar": [
           {
            "marker": {
             "line": {
              "color": "#E5ECF6",
              "width": 0.5
             },
             "pattern": {
              "fillmode": "overlay",
              "size": 10,
              "solidity": 0.2
             }
            },
            "type": "barpolar"
           }
          ],
          "carpet": [
           {
            "aaxis": {
             "endlinecolor": "#2a3f5f",
             "gridcolor": "white",
             "linecolor": "white",
             "minorgridcolor": "white",
             "startlinecolor": "#2a3f5f"
            },
            "baxis": {
             "endlinecolor": "#2a3f5f",
             "gridcolor": "white",
             "linecolor": "white",
             "minorgridcolor": "white",
             "startlinecolor": "#2a3f5f"
            },
            "type": "carpet"
           }
          ],
          "choropleth": [
           {
            "colorbar": {
             "outlinewidth": 0,
             "ticks": ""
            },
            "type": "choropleth"
           }
          ],
          "contour": [
           {
            "colorbar": {
             "outlinewidth": 0,
             "ticks": ""
            },
            "colorscale": [
             [
              0,
              "#0d0887"
             ],
             [
              0.1111111111111111,
              "#46039f"
             ],
             [
              0.2222222222222222,
              "#7201a8"
             ],
             [
              0.3333333333333333,
              "#9c179e"
             ],
             [
              0.4444444444444444,
              "#bd3786"
             ],
             [
              0.5555555555555556,
              "#d8576b"
             ],
             [
              0.6666666666666666,
              "#ed7953"
             ],
             [
              0.7777777777777778,
              "#fb9f3a"
             ],
             [
              0.8888888888888888,
              "#fdca26"
             ],
             [
              1,
              "#f0f921"
             ]
            ],
            "type": "contour"
           }
          ],
          "contourcarpet": [
           {
            "colorbar": {
             "outlinewidth": 0,
             "ticks": ""
            },
            "type": "contourcarpet"
           }
          ],
          "heatmap": [
           {
            "colorbar": {
             "outlinewidth": 0,
             "ticks": ""
            },
            "colorscale": [
             [
              0,
              "#0d0887"
             ],
             [
              0.1111111111111111,
              "#46039f"
             ],
             [
              0.2222222222222222,
              "#7201a8"
             ],
             [
              0.3333333333333333,
              "#9c179e"
             ],
             [
              0.4444444444444444,
              "#bd3786"
             ],
             [
              0.5555555555555556,
              "#d8576b"
             ],
             [
              0.6666666666666666,
              "#ed7953"
             ],
             [
              0.7777777777777778,
              "#fb9f3a"
             ],
             [
              0.8888888888888888,
              "#fdca26"
             ],
             [
              1,
              "#f0f921"
             ]
            ],
            "type": "heatmap"
           }
          ],
          "heatmapgl": [
           {
            "colorbar": {
             "outlinewidth": 0,
             "ticks": ""
            },
            "colorscale": [
             [
              0,
              "#0d0887"
             ],
             [
              0.1111111111111111,
              "#46039f"
             ],
             [
              0.2222222222222222,
              "#7201a8"
             ],
             [
              0.3333333333333333,
              "#9c179e"
             ],
             [
              0.4444444444444444,
              "#bd3786"
             ],
             [
              0.5555555555555556,
              "#d8576b"
             ],
             [
              0.6666666666666666,
              "#ed7953"
             ],
             [
              0.7777777777777778,
              "#fb9f3a"
             ],
             [
              0.8888888888888888,
              "#fdca26"
             ],
             [
              1,
              "#f0f921"
             ]
            ],
            "type": "heatmapgl"
           }
          ],
          "histogram": [
           {
            "marker": {
             "pattern": {
              "fillmode": "overlay",
              "size": 10,
              "solidity": 0.2
             }
            },
            "type": "histogram"
           }
          ],
          "histogram2d": [
           {
            "colorbar": {
             "outlinewidth": 0,
             "ticks": ""
            },
            "colorscale": [
             [
              0,
              "#0d0887"
             ],
             [
              0.1111111111111111,
              "#46039f"
             ],
             [
              0.2222222222222222,
              "#7201a8"
             ],
             [
              0.3333333333333333,
              "#9c179e"
             ],
             [
              0.4444444444444444,
              "#bd3786"
             ],
             [
              0.5555555555555556,
              "#d8576b"
             ],
             [
              0.6666666666666666,
              "#ed7953"
             ],
             [
              0.7777777777777778,
              "#fb9f3a"
             ],
             [
              0.8888888888888888,
              "#fdca26"
             ],
             [
              1,
              "#f0f921"
             ]
            ],
            "type": "histogram2d"
           }
          ],
          "histogram2dcontour": [
           {
            "colorbar": {
             "outlinewidth": 0,
             "ticks": ""
            },
            "colorscale": [
             [
              0,
              "#0d0887"
             ],
             [
              0.1111111111111111,
              "#46039f"
             ],
             [
              0.2222222222222222,
              "#7201a8"
             ],
             [
              0.3333333333333333,
              "#9c179e"
             ],
             [
              0.4444444444444444,
              "#bd3786"
             ],
             [
              0.5555555555555556,
              "#d8576b"
             ],
             [
              0.6666666666666666,
              "#ed7953"
             ],
             [
              0.7777777777777778,
              "#fb9f3a"
             ],
             [
              0.8888888888888888,
              "#fdca26"
             ],
             [
              1,
              "#f0f921"
             ]
            ],
            "type": "histogram2dcontour"
           }
          ],
          "mesh3d": [
           {
            "colorbar": {
             "outlinewidth": 0,
             "ticks": ""
            },
            "type": "mesh3d"
           }
          ],
          "parcoords": [
           {
            "line": {
             "colorbar": {
              "outlinewidth": 0,
              "ticks": ""
             }
            },
            "type": "parcoords"
           }
          ],
          "pie": [
           {
            "automargin": true,
            "type": "pie"
           }
          ],
          "scatter": [
           {
            "fillpattern": {
             "fillmode": "overlay",
             "size": 10,
             "solidity": 0.2
            },
            "type": "scatter"
           }
          ],
          "scatter3d": [
           {
            "line": {
             "colorbar": {
              "outlinewidth": 0,
              "ticks": ""
             }
            },
            "marker": {
             "colorbar": {
              "outlinewidth": 0,
              "ticks": ""
             }
            },
            "type": "scatter3d"
           }
          ],
          "scattercarpet": [
           {
            "marker": {
             "colorbar": {
              "outlinewidth": 0,
              "ticks": ""
             }
            },
            "type": "scattercarpet"
           }
          ],
          "scattergeo": [
           {
            "marker": {
             "colorbar": {
              "outlinewidth": 0,
              "ticks": ""
             }
            },
            "type": "scattergeo"
           }
          ],
          "scattergl": [
           {
            "marker": {
             "colorbar": {
              "outlinewidth": 0,
              "ticks": ""
             }
            },
            "type": "scattergl"
           }
          ],
          "scattermapbox": [
           {
            "marker": {
             "colorbar": {
              "outlinewidth": 0,
              "ticks": ""
             }
            },
            "type": "scattermapbox"
           }
          ],
          "scatterpolar": [
           {
            "marker": {
             "colorbar": {
              "outlinewidth": 0,
              "ticks": ""
             }
            },
            "type": "scatterpolar"
           }
          ],
          "scatterpolargl": [
           {
            "marker": {
             "colorbar": {
              "outlinewidth": 0,
              "ticks": ""
             }
            },
            "type": "scatterpolargl"
           }
          ],
          "scatterternary": [
           {
            "marker": {
             "colorbar": {
              "outlinewidth": 0,
              "ticks": ""
             }
            },
            "type": "scatterternary"
           }
          ],
          "surface": [
           {
            "colorbar": {
             "outlinewidth": 0,
             "ticks": ""
            },
            "colorscale": [
             [
              0,
              "#0d0887"
             ],
             [
              0.1111111111111111,
              "#46039f"
             ],
             [
              0.2222222222222222,
              "#7201a8"
             ],
             [
              0.3333333333333333,
              "#9c179e"
             ],
             [
              0.4444444444444444,
              "#bd3786"
             ],
             [
              0.5555555555555556,
              "#d8576b"
             ],
             [
              0.6666666666666666,
              "#ed7953"
             ],
             [
              0.7777777777777778,
              "#fb9f3a"
             ],
             [
              0.8888888888888888,
              "#fdca26"
             ],
             [
              1,
              "#f0f921"
             ]
            ],
            "type": "surface"
           }
          ],
          "table": [
           {
            "cells": {
             "fill": {
              "color": "#EBF0F8"
             },
             "line": {
              "color": "white"
             }
            },
            "header": {
             "fill": {
              "color": "#C8D4E3"
             },
             "line": {
              "color": "white"
             }
            },
            "type": "table"
           }
          ]
         },
         "layout": {
          "annotationdefaults": {
           "arrowcolor": "#2a3f5f",
           "arrowhead": 0,
           "arrowwidth": 1
          },
          "autotypenumbers": "strict",
          "coloraxis": {
           "colorbar": {
            "outlinewidth": 0,
            "ticks": ""
           }
          },
          "colorscale": {
           "diverging": [
            [
             0,
             "#8e0152"
            ],
            [
             0.1,
             "#c51b7d"
            ],
            [
             0.2,
             "#de77ae"
            ],
            [
             0.3,
             "#f1b6da"
            ],
            [
             0.4,
             "#fde0ef"
            ],
            [
             0.5,
             "#f7f7f7"
            ],
            [
             0.6,
             "#e6f5d0"
            ],
            [
             0.7,
             "#b8e186"
            ],
            [
             0.8,
             "#7fbc41"
            ],
            [
             0.9,
             "#4d9221"
            ],
            [
             1,
             "#276419"
            ]
           ],
           "sequential": [
            [
             0,
             "#0d0887"
            ],
            [
             0.1111111111111111,
             "#46039f"
            ],
            [
             0.2222222222222222,
             "#7201a8"
            ],
            [
             0.3333333333333333,
             "#9c179e"
            ],
            [
             0.4444444444444444,
             "#bd3786"
            ],
            [
             0.5555555555555556,
             "#d8576b"
            ],
            [
             0.6666666666666666,
             "#ed7953"
            ],
            [
             0.7777777777777778,
             "#fb9f3a"
            ],
            [
             0.8888888888888888,
             "#fdca26"
            ],
            [
             1,
             "#f0f921"
            ]
           ],
           "sequentialminus": [
            [
             0,
             "#0d0887"
            ],
            [
             0.1111111111111111,
             "#46039f"
            ],
            [
             0.2222222222222222,
             "#7201a8"
            ],
            [
             0.3333333333333333,
             "#9c179e"
            ],
            [
             0.4444444444444444,
             "#bd3786"
            ],
            [
             0.5555555555555556,
             "#d8576b"
            ],
            [
             0.6666666666666666,
             "#ed7953"
            ],
            [
             0.7777777777777778,
             "#fb9f3a"
            ],
            [
             0.8888888888888888,
             "#fdca26"
            ],
            [
             1,
             "#f0f921"
            ]
           ]
          },
          "colorway": [
           "#636efa",
           "#EF553B",
           "#00cc96",
           "#ab63fa",
           "#FFA15A",
           "#19d3f3",
           "#FF6692",
           "#B6E880",
           "#FF97FF",
           "#FECB52"
          ],
          "font": {
           "color": "#2a3f5f"
          },
          "geo": {
           "bgcolor": "white",
           "lakecolor": "white",
           "landcolor": "#E5ECF6",
           "showlakes": true,
           "showland": true,
           "subunitcolor": "white"
          },
          "hoverlabel": {
           "align": "left"
          },
          "hovermode": "closest",
          "mapbox": {
           "style": "light"
          },
          "paper_bgcolor": "white",
          "plot_bgcolor": "#E5ECF6",
          "polar": {
           "angularaxis": {
            "gridcolor": "white",
            "linecolor": "white",
            "ticks": ""
           },
           "bgcolor": "#E5ECF6",
           "radialaxis": {
            "gridcolor": "white",
            "linecolor": "white",
            "ticks": ""
           }
          },
          "scene": {
           "xaxis": {
            "backgroundcolor": "#E5ECF6",
            "gridcolor": "white",
            "gridwidth": 2,
            "linecolor": "white",
            "showbackground": true,
            "ticks": "",
            "zerolinecolor": "white"
           },
           "yaxis": {
            "backgroundcolor": "#E5ECF6",
            "gridcolor": "white",
            "gridwidth": 2,
            "linecolor": "white",
            "showbackground": true,
            "ticks": "",
            "zerolinecolor": "white"
           },
           "zaxis": {
            "backgroundcolor": "#E5ECF6",
            "gridcolor": "white",
            "gridwidth": 2,
            "linecolor": "white",
            "showbackground": true,
            "ticks": "",
            "zerolinecolor": "white"
           }
          },
          "shapedefaults": {
           "line": {
            "color": "#2a3f5f"
           }
          },
          "ternary": {
           "aaxis": {
            "gridcolor": "white",
            "linecolor": "white",
            "ticks": ""
           },
           "baxis": {
            "gridcolor": "white",
            "linecolor": "white",
            "ticks": ""
           },
           "bgcolor": "#E5ECF6",
           "caxis": {
            "gridcolor": "white",
            "linecolor": "white",
            "ticks": ""
           }
          },
          "title": {
           "x": 0.05
          },
          "xaxis": {
           "automargin": true,
           "gridcolor": "white",
           "linecolor": "white",
           "ticks": "",
           "title": {
            "standoff": 15
           },
           "zerolinecolor": "white",
           "zerolinewidth": 2
          },
          "yaxis": {
           "automargin": true,
           "gridcolor": "white",
           "linecolor": "white",
           "ticks": "",
           "title": {
            "standoff": 15
           },
           "zerolinecolor": "white",
           "zerolinewidth": 2
          }
         }
        }
       }
      },
      "text/html": [
       "<div>                            <div id=\"f1ee7c0f-b00d-4a5c-a053-7023836fc35d\" class=\"plotly-graph-div\" style=\"height:525px; width:100%;\"></div>            <script type=\"text/javascript\">                require([\"plotly\"], function(Plotly) {                    window.PLOTLYENV=window.PLOTLYENV || {};                                    if (document.getElementById(\"f1ee7c0f-b00d-4a5c-a053-7023836fc35d\")) {                    Plotly.newPlot(                        \"f1ee7c0f-b00d-4a5c-a053-7023836fc35d\",                        [{\"x\":[\"FAMILY\",\"GAME\",\"TOOLS\",\"BUSINESS\",\"MEDICAL\",\"PERSONALIZATION\",\"PRODUCTIVITY\",\"LIFESTYLE\",\"FINANCE\",\"SPORTS\",\"COMMUNICATION\",\"HEALTH_AND_FITNESS\",\"PHOTOGRAPHY\",\"NEWS_AND_MAGAZINES\",\"SOCIAL\",\"BOOKS_AND_REFERENCE\",\"TRAVEL_AND_LOCAL\",\"SHOPPING\",\"DATING\",\"VIDEO_PLAYERS\",\"MAPS_AND_NAVIGATION\",\"EDUCATION\",\"FOOD_AND_DRINK\",\"ENTERTAINMENT\",\"AUTO_AND_VEHICLES\",\"LIBRARIES_AND_DEMO\",\"WEATHER\",\"HOUSE_AND_HOME\",\"EVENTS\",\"ART_AND_DESIGN\",\"PARENTING\",\"COMICS\",\"BEAUTY\"],\"y\":[1832,959,827,420,395,376,374,369,345,325,315,288,281,254,239,222,219,202,171,163,131,119,112,102,85,84,79,74,64,64,60,56,53],\"type\":\"bar\"}],                        {\"template\":{\"data\":{\"barpolar\":[{\"marker\":{\"line\":{\"color\":\"#E5ECF6\",\"width\":0.5},\"pattern\":{\"fillmode\":\"overlay\",\"size\":10,\"solidity\":0.2}},\"type\":\"barpolar\"}],\"bar\":[{\"error_x\":{\"color\":\"#2a3f5f\"},\"error_y\":{\"color\":\"#2a3f5f\"},\"marker\":{\"line\":{\"color\":\"#E5ECF6\",\"width\":0.5},\"pattern\":{\"fillmode\":\"overlay\",\"size\":10,\"solidity\":0.2}},\"type\":\"bar\"}],\"carpet\":[{\"aaxis\":{\"endlinecolor\":\"#2a3f5f\",\"gridcolor\":\"white\",\"linecolor\":\"white\",\"minorgridcolor\":\"white\",\"startlinecolor\":\"#2a3f5f\"},\"baxis\":{\"endlinecolor\":\"#2a3f5f\",\"gridcolor\":\"white\",\"linecolor\":\"white\",\"minorgridcolor\":\"white\",\"startlinecolor\":\"#2a3f5f\"},\"type\":\"carpet\"}],\"choropleth\":[{\"colorbar\":{\"outlinewidth\":0,\"ticks\":\"\"},\"type\":\"choropleth\"}],\"contourcarpet\":[{\"colorbar\":{\"outlinewidth\":0,\"ticks\":\"\"},\"type\":\"contourcarpet\"}],\"contour\":[{\"colorbar\":{\"outlinewidth\":0,\"ticks\":\"\"},\"colorscale\":[[0.0,\"#0d0887\"],[0.1111111111111111,\"#46039f\"],[0.2222222222222222,\"#7201a8\"],[0.3333333333333333,\"#9c179e\"],[0.4444444444444444,\"#bd3786\"],[0.5555555555555556,\"#d8576b\"],[0.6666666666666666,\"#ed7953\"],[0.7777777777777778,\"#fb9f3a\"],[0.8888888888888888,\"#fdca26\"],[1.0,\"#f0f921\"]],\"type\":\"contour\"}],\"heatmapgl\":[{\"colorbar\":{\"outlinewidth\":0,\"ticks\":\"\"},\"colorscale\":[[0.0,\"#0d0887\"],[0.1111111111111111,\"#46039f\"],[0.2222222222222222,\"#7201a8\"],[0.3333333333333333,\"#9c179e\"],[0.4444444444444444,\"#bd3786\"],[0.5555555555555556,\"#d8576b\"],[0.6666666666666666,\"#ed7953\"],[0.7777777777777778,\"#fb9f3a\"],[0.8888888888888888,\"#fdca26\"],[1.0,\"#f0f921\"]],\"type\":\"heatmapgl\"}],\"heatmap\":[{\"colorbar\":{\"outlinewidth\":0,\"ticks\":\"\"},\"colorscale\":[[0.0,\"#0d0887\"],[0.1111111111111111,\"#46039f\"],[0.2222222222222222,\"#7201a8\"],[0.3333333333333333,\"#9c179e\"],[0.4444444444444444,\"#bd3786\"],[0.5555555555555556,\"#d8576b\"],[0.6666666666666666,\"#ed7953\"],[0.7777777777777778,\"#fb9f3a\"],[0.8888888888888888,\"#fdca26\"],[1.0,\"#f0f921\"]],\"type\":\"heatmap\"}],\"histogram2dcontour\":[{\"colorbar\":{\"outlinewidth\":0,\"ticks\":\"\"},\"colorscale\":[[0.0,\"#0d0887\"],[0.1111111111111111,\"#46039f\"],[0.2222222222222222,\"#7201a8\"],[0.3333333333333333,\"#9c179e\"],[0.4444444444444444,\"#bd3786\"],[0.5555555555555556,\"#d8576b\"],[0.6666666666666666,\"#ed7953\"],[0.7777777777777778,\"#fb9f3a\"],[0.8888888888888888,\"#fdca26\"],[1.0,\"#f0f921\"]],\"type\":\"histogram2dcontour\"}],\"histogram2d\":[{\"colorbar\":{\"outlinewidth\":0,\"ticks\":\"\"},\"colorscale\":[[0.0,\"#0d0887\"],[0.1111111111111111,\"#46039f\"],[0.2222222222222222,\"#7201a8\"],[0.3333333333333333,\"#9c179e\"],[0.4444444444444444,\"#bd3786\"],[0.5555555555555556,\"#d8576b\"],[0.6666666666666666,\"#ed7953\"],[0.7777777777777778,\"#fb9f3a\"],[0.8888888888888888,\"#fdca26\"],[1.0,\"#f0f921\"]],\"type\":\"histogram2d\"}],\"histogram\":[{\"marker\":{\"pattern\":{\"fillmode\":\"overlay\",\"size\":10,\"solidity\":0.2}},\"type\":\"histogram\"}],\"mesh3d\":[{\"colorbar\":{\"outlinewidth\":0,\"ticks\":\"\"},\"type\":\"mesh3d\"}],\"parcoords\":[{\"line\":{\"colorbar\":{\"outlinewidth\":0,\"ticks\":\"\"}},\"type\":\"parcoords\"}],\"pie\":[{\"automargin\":true,\"type\":\"pie\"}],\"scatter3d\":[{\"line\":{\"colorbar\":{\"outlinewidth\":0,\"ticks\":\"\"}},\"marker\":{\"colorbar\":{\"outlinewidth\":0,\"ticks\":\"\"}},\"type\":\"scatter3d\"}],\"scattercarpet\":[{\"marker\":{\"colorbar\":{\"outlinewidth\":0,\"ticks\":\"\"}},\"type\":\"scattercarpet\"}],\"scattergeo\":[{\"marker\":{\"colorbar\":{\"outlinewidth\":0,\"ticks\":\"\"}},\"type\":\"scattergeo\"}],\"scattergl\":[{\"marker\":{\"colorbar\":{\"outlinewidth\":0,\"ticks\":\"\"}},\"type\":\"scattergl\"}],\"scattermapbox\":[{\"marker\":{\"colorbar\":{\"outlinewidth\":0,\"ticks\":\"\"}},\"type\":\"scattermapbox\"}],\"scatterpolargl\":[{\"marker\":{\"colorbar\":{\"outlinewidth\":0,\"ticks\":\"\"}},\"type\":\"scatterpolargl\"}],\"scatterpolar\":[{\"marker\":{\"colorbar\":{\"outlinewidth\":0,\"ticks\":\"\"}},\"type\":\"scatterpolar\"}],\"scatter\":[{\"fillpattern\":{\"fillmode\":\"overlay\",\"size\":10,\"solidity\":0.2},\"type\":\"scatter\"}],\"scatterternary\":[{\"marker\":{\"colorbar\":{\"outlinewidth\":0,\"ticks\":\"\"}},\"type\":\"scatterternary\"}],\"surface\":[{\"colorbar\":{\"outlinewidth\":0,\"ticks\":\"\"},\"colorscale\":[[0.0,\"#0d0887\"],[0.1111111111111111,\"#46039f\"],[0.2222222222222222,\"#7201a8\"],[0.3333333333333333,\"#9c179e\"],[0.4444444444444444,\"#bd3786\"],[0.5555555555555556,\"#d8576b\"],[0.6666666666666666,\"#ed7953\"],[0.7777777777777778,\"#fb9f3a\"],[0.8888888888888888,\"#fdca26\"],[1.0,\"#f0f921\"]],\"type\":\"surface\"}],\"table\":[{\"cells\":{\"fill\":{\"color\":\"#EBF0F8\"},\"line\":{\"color\":\"white\"}},\"header\":{\"fill\":{\"color\":\"#C8D4E3\"},\"line\":{\"color\":\"white\"}},\"type\":\"table\"}]},\"layout\":{\"annotationdefaults\":{\"arrowcolor\":\"#2a3f5f\",\"arrowhead\":0,\"arrowwidth\":1},\"autotypenumbers\":\"strict\",\"coloraxis\":{\"colorbar\":{\"outlinewidth\":0,\"ticks\":\"\"}},\"colorscale\":{\"diverging\":[[0,\"#8e0152\"],[0.1,\"#c51b7d\"],[0.2,\"#de77ae\"],[0.3,\"#f1b6da\"],[0.4,\"#fde0ef\"],[0.5,\"#f7f7f7\"],[0.6,\"#e6f5d0\"],[0.7,\"#b8e186\"],[0.8,\"#7fbc41\"],[0.9,\"#4d9221\"],[1,\"#276419\"]],\"sequential\":[[0.0,\"#0d0887\"],[0.1111111111111111,\"#46039f\"],[0.2222222222222222,\"#7201a8\"],[0.3333333333333333,\"#9c179e\"],[0.4444444444444444,\"#bd3786\"],[0.5555555555555556,\"#d8576b\"],[0.6666666666666666,\"#ed7953\"],[0.7777777777777778,\"#fb9f3a\"],[0.8888888888888888,\"#fdca26\"],[1.0,\"#f0f921\"]],\"sequentialminus\":[[0.0,\"#0d0887\"],[0.1111111111111111,\"#46039f\"],[0.2222222222222222,\"#7201a8\"],[0.3333333333333333,\"#9c179e\"],[0.4444444444444444,\"#bd3786\"],[0.5555555555555556,\"#d8576b\"],[0.6666666666666666,\"#ed7953\"],[0.7777777777777778,\"#fb9f3a\"],[0.8888888888888888,\"#fdca26\"],[1.0,\"#f0f921\"]]},\"colorway\":[\"#636efa\",\"#EF553B\",\"#00cc96\",\"#ab63fa\",\"#FFA15A\",\"#19d3f3\",\"#FF6692\",\"#B6E880\",\"#FF97FF\",\"#FECB52\"],\"font\":{\"color\":\"#2a3f5f\"},\"geo\":{\"bgcolor\":\"white\",\"lakecolor\":\"white\",\"landcolor\":\"#E5ECF6\",\"showlakes\":true,\"showland\":true,\"subunitcolor\":\"white\"},\"hoverlabel\":{\"align\":\"left\"},\"hovermode\":\"closest\",\"mapbox\":{\"style\":\"light\"},\"paper_bgcolor\":\"white\",\"plot_bgcolor\":\"#E5ECF6\",\"polar\":{\"angularaxis\":{\"gridcolor\":\"white\",\"linecolor\":\"white\",\"ticks\":\"\"},\"bgcolor\":\"#E5ECF6\",\"radialaxis\":{\"gridcolor\":\"white\",\"linecolor\":\"white\",\"ticks\":\"\"}},\"scene\":{\"xaxis\":{\"backgroundcolor\":\"#E5ECF6\",\"gridcolor\":\"white\",\"gridwidth\":2,\"linecolor\":\"white\",\"showbackground\":true,\"ticks\":\"\",\"zerolinecolor\":\"white\"},\"yaxis\":{\"backgroundcolor\":\"#E5ECF6\",\"gridcolor\":\"white\",\"gridwidth\":2,\"linecolor\":\"white\",\"showbackground\":true,\"ticks\":\"\",\"zerolinecolor\":\"white\"},\"zaxis\":{\"backgroundcolor\":\"#E5ECF6\",\"gridcolor\":\"white\",\"gridwidth\":2,\"linecolor\":\"white\",\"showbackground\":true,\"ticks\":\"\",\"zerolinecolor\":\"white\"}},\"shapedefaults\":{\"line\":{\"color\":\"#2a3f5f\"}},\"ternary\":{\"aaxis\":{\"gridcolor\":\"white\",\"linecolor\":\"white\",\"ticks\":\"\"},\"baxis\":{\"gridcolor\":\"white\",\"linecolor\":\"white\",\"ticks\":\"\"},\"bgcolor\":\"#E5ECF6\",\"caxis\":{\"gridcolor\":\"white\",\"linecolor\":\"white\",\"ticks\":\"\"}},\"title\":{\"x\":0.05},\"xaxis\":{\"automargin\":true,\"gridcolor\":\"white\",\"linecolor\":\"white\",\"ticks\":\"\",\"title\":{\"standoff\":15},\"zerolinecolor\":\"white\",\"zerolinewidth\":2},\"yaxis\":{\"automargin\":true,\"gridcolor\":\"white\",\"linecolor\":\"white\",\"ticks\":\"\",\"title\":{\"standoff\":15},\"zerolinecolor\":\"white\",\"zerolinewidth\":2}}}},                        {\"responsive\": true}                    ).then(function(){\n",
       "                            \n",
       "var gd = document.getElementById('f1ee7c0f-b00d-4a5c-a053-7023836fc35d');\n",
       "var x = new MutationObserver(function (mutations, observer) {{\n",
       "        var display = window.getComputedStyle(gd).display;\n",
       "        if (!display || display === 'none') {{\n",
       "            console.log([gd, 'removed!']);\n",
       "            Plotly.purge(gd);\n",
       "            observer.disconnect();\n",
       "        }}\n",
       "}});\n",
       "\n",
       "// Listen for the removal of the full notebook cells\n",
       "var notebookContainer = gd.closest('#notebook-container');\n",
       "if (notebookContainer) {{\n",
       "    x.observe(notebookContainer, {childList: true});\n",
       "}}\n",
       "\n",
       "// Listen for the clearing of the current output cell\n",
       "var outputEl = gd.closest('.output');\n",
       "if (outputEl) {{\n",
       "    x.observe(outputEl, {childList: true});\n",
       "}}\n",
       "\n",
       "                        })                };                });            </script>        </div>"
      ]
     },
     "metadata": {},
     "output_type": "display_data"
    }
   ],
   "source": [
    "import plotly\n",
    "plotly.offline.init_notebook_mode(connected=True)\n",
    "import plotly.graph_objs as go\n",
    "\n",
    "# Print the total number of unique categories\n",
    "num_categories = len(list(apps['Category'].unique()))\n",
    "print('Number of categories = ', num_categories)\n",
    "\n",
    "# Count the number of apps in each 'Category'. \n",
    "num_apps_in_category = apps['Category'].value_counts()\n",
    "\n",
    "# Sort num_apps_in_category in descending order based on the count of apps in each category\n",
    "sorted_num_apps_in_category = num_apps_in_category.sort_values(ascending= False)\n",
    "\n",
    "data = [go.Bar(\n",
    "        x = num_apps_in_category.index, # index = category name\n",
    "        y = num_apps_in_category.values, # value = count\n",
    ")]\n",
    "\n",
    "plotly.offline.iplot(data)"
   ]
  },
  {
   "cell_type": "code",
   "execution_count": 8,
   "id": "76c0a90b",
   "metadata": {},
   "outputs": [
    {
     "data": {
      "text/html": [
       "<div>\n",
       "<style scoped>\n",
       "    .dataframe tbody tr th:only-of-type {\n",
       "        vertical-align: middle;\n",
       "    }\n",
       "\n",
       "    .dataframe tbody tr th {\n",
       "        vertical-align: top;\n",
       "    }\n",
       "\n",
       "    .dataframe thead th {\n",
       "        text-align: right;\n",
       "    }\n",
       "</style>\n",
       "<table border=\"1\" class=\"dataframe\">\n",
       "  <thead>\n",
       "    <tr style=\"text-align: right;\">\n",
       "      <th></th>\n",
       "      <th>App</th>\n",
       "      <th>Category</th>\n",
       "      <th>Rating</th>\n",
       "      <th>Reviews</th>\n",
       "      <th>Size</th>\n",
       "      <th>Installs</th>\n",
       "      <th>Type</th>\n",
       "      <th>Price</th>\n",
       "      <th>Content Rating</th>\n",
       "      <th>Genres</th>\n",
       "      <th>Last Updated</th>\n",
       "      <th>Current Ver</th>\n",
       "      <th>Android Ver</th>\n",
       "    </tr>\n",
       "  </thead>\n",
       "  <tbody>\n",
       "    <tr>\n",
       "      <th>2017</th>\n",
       "      <td>Jewels Crush- Match 3 Puzzle</td>\n",
       "      <td>FAMILY</td>\n",
       "      <td>4.4</td>\n",
       "      <td>14774</td>\n",
       "      <td>19.0</td>\n",
       "      <td>1000000.0</td>\n",
       "      <td>Free</td>\n",
       "      <td>0.0</td>\n",
       "      <td>Everyone</td>\n",
       "      <td>Casual;Brain Games</td>\n",
       "      <td>July 23, 2018</td>\n",
       "      <td>1.9.3901</td>\n",
       "      <td>4.0.3 and up</td>\n",
       "    </tr>\n",
       "    <tr>\n",
       "      <th>2018</th>\n",
       "      <td>Coloring &amp; Learn</td>\n",
       "      <td>FAMILY</td>\n",
       "      <td>4.4</td>\n",
       "      <td>12753</td>\n",
       "      <td>51.0</td>\n",
       "      <td>5000000.0</td>\n",
       "      <td>Free</td>\n",
       "      <td>0.0</td>\n",
       "      <td>Everyone</td>\n",
       "      <td>Educational;Creativity</td>\n",
       "      <td>July 17, 2018</td>\n",
       "      <td>1.49</td>\n",
       "      <td>4.0.3 and up</td>\n",
       "    </tr>\n",
       "    <tr>\n",
       "      <th>2019</th>\n",
       "      <td>Mahjong</td>\n",
       "      <td>FAMILY</td>\n",
       "      <td>4.5</td>\n",
       "      <td>33983</td>\n",
       "      <td>22.0</td>\n",
       "      <td>5000000.0</td>\n",
       "      <td>Free</td>\n",
       "      <td>0.0</td>\n",
       "      <td>Everyone</td>\n",
       "      <td>Puzzle;Brain Games</td>\n",
       "      <td>August 2, 2018</td>\n",
       "      <td>1.24.3181</td>\n",
       "      <td>4.0.3 and up</td>\n",
       "    </tr>\n",
       "    <tr>\n",
       "      <th>2020</th>\n",
       "      <td>Super ABC! Learning games for kids! Preschool ...</td>\n",
       "      <td>FAMILY</td>\n",
       "      <td>4.6</td>\n",
       "      <td>20267</td>\n",
       "      <td>46.0</td>\n",
       "      <td>1000000.0</td>\n",
       "      <td>Free</td>\n",
       "      <td>0.0</td>\n",
       "      <td>Everyone</td>\n",
       "      <td>Educational;Education</td>\n",
       "      <td>July 16, 2018</td>\n",
       "      <td>1.1.6.7</td>\n",
       "      <td>4.1 and up</td>\n",
       "    </tr>\n",
       "    <tr>\n",
       "      <th>2021</th>\n",
       "      <td>Toy Pop Cubes</td>\n",
       "      <td>FAMILY</td>\n",
       "      <td>4.5</td>\n",
       "      <td>5761</td>\n",
       "      <td>21.0</td>\n",
       "      <td>1000000.0</td>\n",
       "      <td>Free</td>\n",
       "      <td>0.0</td>\n",
       "      <td>Everyone</td>\n",
       "      <td>Casual;Brain Games</td>\n",
       "      <td>July 4, 2018</td>\n",
       "      <td>1.8.3181</td>\n",
       "      <td>4.0.3 and up</td>\n",
       "    </tr>\n",
       "  </tbody>\n",
       "</table>\n",
       "</div>"
      ],
      "text/plain": [
       "                                                    App Category  Rating  \\\n",
       "2017                       Jewels Crush- Match 3 Puzzle   FAMILY     4.4   \n",
       "2018                                   Coloring & Learn   FAMILY     4.4   \n",
       "2019                                            Mahjong   FAMILY     4.5   \n",
       "2020  Super ABC! Learning games for kids! Preschool ...   FAMILY     4.6   \n",
       "2021                                      Toy Pop Cubes   FAMILY     4.5   \n",
       "\n",
       "      Reviews  Size   Installs  Type  Price Content Rating  \\\n",
       "2017    14774  19.0  1000000.0  Free    0.0       Everyone   \n",
       "2018    12753  51.0  5000000.0  Free    0.0       Everyone   \n",
       "2019    33983  22.0  5000000.0  Free    0.0       Everyone   \n",
       "2020    20267  46.0  1000000.0  Free    0.0       Everyone   \n",
       "2021     5761  21.0  1000000.0  Free    0.0       Everyone   \n",
       "\n",
       "                      Genres    Last Updated Current Ver   Android Ver  \n",
       "2017      Casual;Brain Games   July 23, 2018    1.9.3901  4.0.3 and up  \n",
       "2018  Educational;Creativity   July 17, 2018        1.49  4.0.3 and up  \n",
       "2019      Puzzle;Brain Games  August 2, 2018   1.24.3181  4.0.3 and up  \n",
       "2020   Educational;Education   July 16, 2018     1.1.6.7    4.1 and up  \n",
       "2021      Casual;Brain Games    July 4, 2018    1.8.3181  4.0.3 and up  "
      ]
     },
     "execution_count": 8,
     "metadata": {},
     "output_type": "execute_result"
    }
   ],
   "source": [
    "family = apps[apps.Category==\"FAMILY\"]\n",
    "family.head()"
   ]
  },
  {
   "cell_type": "markdown",
   "id": "fc00ca94",
   "metadata": {},
   "source": [
    "Por los nombres vemos que la categoría familia son apps que cualquier persona podría tener en su celular sobre todo si es madre o padre. Es la categoría que más apps tiene. Veamos su distribución por rating."
   ]
  },
  {
   "cell_type": "code",
   "execution_count": 9,
   "id": "197ad3cc",
   "metadata": {},
   "outputs": [
    {
     "name": "stdout",
     "output_type": "stream",
     "text": [
      "Average app rating =  4.179664179104478\n"
     ]
    },
    {
     "data": {
      "application/vnd.plotly.v1+json": {
       "config": {
        "linkText": "Export to plot.ly",
        "plotlyServerURL": "https://plot.ly",
        "showLink": false
       },
       "data": [
        {
         "type": "histogram",
         "x": [
          4.4,
          4.4,
          4.5,
          4.6,
          4.5,
          4.3,
          4.7,
          4.5,
          4.5,
          4.4,
          4.3,
          4.6,
          4.2,
          4.5,
          4.3,
          4.5,
          4.4,
          4.4,
          4.8,
          4.4,
          4.3,
          4.6,
          4.5,
          4.5,
          4.5,
          4,
          4.6,
          4.5,
          4.5,
          4.4,
          4.5,
          4.5,
          4.2,
          4.3,
          4.5,
          4.2,
          4.3,
          4.4,
          4.6,
          4.5,
          4.2,
          4.5,
          4.6,
          4.6,
          4.1,
          4.5,
          4.6,
          4.6,
          4.5,
          4.3,
          3.8,
          4.5,
          4.1,
          4.8,
          3.9,
          4.5,
          4.4,
          4.3,
          4.2,
          3,
          4.1,
          4.5,
          4.6,
          4.3,
          4.3,
          4.5,
          4.2,
          4.2,
          4.4,
          4.5,
          4.1,
          4.2,
          4.1,
          4.7,
          4.3,
          4.4,
          4.4,
          4.3,
          4.3,
          4.2,
          4.2,
          4.3,
          4.3,
          4.1,
          4.2,
          4.5,
          4.3,
          4.5,
          4.1,
          4.2,
          4.4,
          4,
          4.1,
          4.4,
          4.1,
          4,
          4.3,
          4.6,
          4.3,
          4.7,
          4.3,
          4.4,
          4.2,
          4.7,
          3.9,
          4.1,
          4.1,
          4.1,
          4.2,
          4.4,
          4.3,
          4.5,
          4.3,
          4.3,
          4.1,
          4.1,
          4.1,
          4.6,
          4.1,
          4.4,
          4.4,
          4.3,
          4,
          4.8,
          3.8,
          4.7,
          4.5,
          4.8,
          4.4,
          4.8,
          4.2,
          4.2,
          4,
          4.7,
          4.7,
          3.9,
          4.5,
          4.1,
          4.4,
          3.9,
          4.4,
          3.6,
          4.4,
          4.1,
          3.6,
          4.6,
          4.3,
          4.5,
          4.4,
          4.1,
          3.9,
          4.1,
          3.9,
          4.2,
          3.8,
          4.3,
          3.9,
          4,
          4,
          4,
          4.3,
          4.3,
          4.2,
          4.3,
          4.2,
          4.6,
          4.1,
          4.5,
          4.5,
          4.3,
          4.2,
          3.9,
          3.7,
          4.3,
          4.6,
          4.6,
          4.6,
          4.8,
          4.3,
          4.4,
          3.3,
          4.4,
          3.7,
          4.8,
          3.8,
          4.6,
          4.4,
          4.4,
          4.9,
          4.6,
          4.6,
          3.9,
          4.5,
          4.5,
          4.5,
          4.3,
          4.7,
          4.6,
          4.7,
          3.6,
          4.3,
          4.3,
          4.5,
          4.4,
          4.6,
          3.7,
          4.5,
          4.8,
          4,
          4.7,
          4.8,
          4.6,
          4.3,
          4.2,
          4.8,
          4.2,
          4.5,
          4.4,
          4.6,
          4.3,
          3.3,
          4.4,
          3.1,
          3.9,
          4.4,
          4.8,
          3.6,
          4.4,
          4.3,
          4.3,
          4.2,
          1,
          4.4,
          4.4,
          null,
          4.3,
          4.4,
          4.2,
          3.8,
          4.3,
          3.9,
          3.7,
          3,
          4.5,
          4.2,
          4.2,
          3.7,
          2.8,
          4.4,
          4,
          4,
          4.3,
          3.3,
          4.2,
          4.1,
          3.5,
          4.6,
          4.1,
          4.7,
          3.9,
          4.7,
          4.6,
          4.4,
          4.3,
          4.8,
          4.1,
          3.7,
          4.2,
          4.5,
          4.6,
          null,
          4.9,
          4.6,
          null,
          4.8,
          4.3,
          4.2,
          4.8,
          4,
          4.3,
          4,
          4.1,
          4.6,
          3.1,
          4,
          4.5,
          4.4,
          4.3,
          4.4,
          3.5,
          3.7,
          3.9,
          4.3,
          4.1,
          4.4,
          3.8,
          4.4,
          3.8,
          4.7,
          4.3,
          4.2,
          4.5,
          4.5,
          3.5,
          4.1,
          4.4,
          4,
          4.4,
          3.8,
          3.8,
          null,
          4.2,
          4.1,
          4.4,
          4.1,
          4.8,
          3.8,
          3.9,
          4.4,
          3.9,
          3.8,
          null,
          4.2,
          4.1,
          4.4,
          4.4,
          null,
          4.1,
          3.9,
          3.5,
          3.2,
          null,
          null,
          null,
          4.8,
          3.8,
          4.1,
          4.2,
          null,
          null,
          4.2,
          4.3,
          4.1,
          3.7,
          4.1,
          3,
          4.4,
          4.2,
          4.2,
          4.2,
          4.5,
          4.3,
          4.6,
          3.4,
          2.4,
          2.4,
          4.2,
          3.6,
          3.2,
          3.9,
          4.4,
          4.1,
          3.9,
          3.3,
          3.8,
          4.5,
          4.2,
          4.3,
          4.7,
          3.6,
          4.3,
          4.7,
          4.6,
          4.3,
          3.2,
          3.3,
          4.5,
          4.2,
          3.8,
          2.7,
          4.5,
          4.6,
          4.4,
          4.6,
          4.4,
          4.4,
          4.2,
          4.8,
          4.2,
          4.6,
          4.5,
          4.2,
          3.9,
          4.2,
          4.2,
          4.3,
          4.6,
          4.1,
          4.6,
          3.8,
          4.5,
          4.7,
          4.5,
          4.5,
          4.3,
          3.9,
          4.3,
          4.2,
          4.5,
          null,
          1.8,
          1.6,
          3.3,
          3,
          4.5,
          4.1,
          4.6,
          3.7,
          4.3,
          4.2,
          4.4,
          3.9,
          4.7,
          4.3,
          3.9,
          4.4,
          4.6,
          null,
          4.2,
          4.5,
          4.4,
          null,
          null,
          null,
          null,
          4.5,
          null,
          3.9,
          4.1,
          3,
          null,
          null,
          null,
          null,
          4.5,
          3.8,
          3,
          4.4,
          4,
          3.9,
          4.6,
          3.8,
          4.6,
          3.3,
          3.2,
          4.3,
          4.4,
          3.3,
          null,
          3.9,
          4.6,
          4.5,
          4.5,
          4.4,
          2.8,
          4.6,
          4.1,
          5,
          null,
          4.6,
          null,
          4.5,
          5,
          4.4,
          4,
          null,
          3.9,
          4.3,
          3.9,
          3.7,
          4.6,
          3,
          4.1,
          null,
          null,
          3.6,
          3.6,
          4.5,
          4.3,
          4.6,
          4.7,
          4.8,
          4.7,
          4.6,
          4.5,
          4.7,
          4.7,
          3.9,
          4,
          4.4,
          3.6,
          4.2,
          3.5,
          4.2,
          4.1,
          4.5,
          4.4,
          3.8,
          3.5,
          4.6,
          4.6,
          4.7,
          4.5,
          4.2,
          4.2,
          3.7,
          3.4,
          4.3,
          4.6,
          4.3,
          4.7,
          3.8,
          4.3,
          3.7,
          2.9,
          4.3,
          4.3,
          3.3,
          5,
          4.6,
          4.5,
          2.9,
          4.6,
          4.7,
          4.7,
          3.7,
          4.8,
          4.6,
          4.4,
          4.7,
          4.4,
          2.9,
          4.5,
          5,
          3.7,
          null,
          4.2,
          5,
          4.7,
          4.3,
          3.9,
          null,
          4.4,
          null,
          4.6,
          4.5,
          5,
          5,
          5,
          null,
          4.4,
          4.6,
          4.1,
          4.5,
          4.2,
          4.7,
          4.3,
          4.2,
          4.3,
          4.3,
          4.7,
          3.7,
          3.2,
          4,
          3.8,
          4.4,
          3.8,
          3.4,
          2.9,
          3.7,
          null,
          3,
          4.1,
          3.8,
          4.4,
          4.5,
          3.6,
          3.6,
          4.1,
          4.3,
          4.4,
          4.4,
          2.4,
          4.5,
          3.4,
          3.9,
          4.3,
          4.4,
          4.3,
          4.2,
          4,
          4.6,
          4,
          3.5,
          4,
          4.1,
          3.9,
          3.2,
          4,
          3.7,
          3.9,
          4.5,
          4,
          3.8,
          4.1,
          null,
          null,
          null,
          4.1,
          3.8,
          4.4,
          3.3,
          3.5,
          4.3,
          3.5,
          4.8,
          4.6,
          null,
          null,
          null,
          2.9,
          4.7,
          4.2,
          null,
          3,
          null,
          3.7,
          4.8,
          4.3,
          4.5,
          null,
          null,
          null,
          null,
          4.6,
          5,
          4,
          4.3,
          4.2,
          4.2,
          4.6,
          3.9,
          3.5,
          4.8,
          4.3,
          4.8,
          4.2,
          4.4,
          4.5,
          4.3,
          3.1,
          4.7,
          null,
          4.8,
          null,
          4.5,
          4.6,
          4.6,
          4.9,
          4.8,
          4,
          4.1,
          4.5,
          null,
          null,
          4.2,
          4.7,
          4.3,
          3.8,
          4.4,
          4.4,
          3,
          4.1,
          null,
          1,
          4.4,
          3.3,
          4.2,
          5,
          3.6,
          3.9,
          4.4,
          4.3,
          4.3,
          4.3,
          null,
          4.2,
          3.3,
          4.2,
          4.1,
          4.6,
          4.2,
          4.7,
          3.5,
          4,
          5,
          4.4,
          4.3,
          3.8,
          4.2,
          3.8,
          4.3,
          3.8,
          4.2,
          4.3,
          4.4,
          4.5,
          4.5,
          null,
          3.8,
          4.1,
          4.1,
          4.1,
          4.1,
          4,
          4.3,
          3.9,
          3.6,
          4.3,
          null,
          null,
          4.4,
          2.6,
          4.2,
          3.7,
          2.4,
          2.9,
          1.7,
          2.3,
          null,
          null,
          null,
          4.9,
          null,
          null,
          4.5,
          null,
          2.4,
          4.1,
          4.3,
          4.7,
          3.9,
          null,
          5,
          null,
          4.8,
          4.6,
          null,
          4.6,
          4.9,
          4.3,
          4.5,
          4.4,
          3.6,
          3.9,
          4.2,
          4.4,
          3.6,
          null,
          5,
          null,
          4,
          4.3,
          3.8,
          4.1,
          4,
          5,
          4.4,
          4.7,
          4.4,
          3.8,
          3.6,
          4.8,
          4.4,
          4.8,
          4.6,
          4.6,
          4.3,
          4,
          3.2,
          4.6,
          4.2,
          3.9,
          4.8,
          4.2,
          4.7,
          4.2,
          4.5,
          4.3,
          null,
          5,
          null,
          null,
          null,
          1.9,
          4.3,
          4.5,
          4.5,
          4.2,
          4,
          null,
          null,
          4.3,
          4.7,
          3.8,
          4.3,
          4.6,
          4.5,
          3.9,
          3.2,
          4.6,
          4.1,
          4.6,
          2.3,
          4.5,
          4.4,
          4.5,
          null,
          4.3,
          4.5,
          null,
          4.4,
          null,
          4.9,
          null,
          4.6,
          null,
          4.8,
          null,
          4.6,
          4.6,
          4.6,
          5,
          3.9,
          3.9,
          4.2,
          null,
          null,
          4,
          3.7,
          4.6,
          4.5,
          4.3,
          4.4,
          4.6,
          null,
          4.4,
          4.4,
          5,
          null,
          4.4,
          1.8,
          5,
          null,
          4.5,
          5,
          4.5,
          4.7,
          4.6,
          null,
          4.5,
          null,
          3.5,
          null,
          4.3,
          5,
          4.2,
          4,
          null,
          4.6,
          null,
          4.3,
          4.3,
          null,
          3.8,
          4.4,
          4.2,
          3.8,
          3.7,
          4.7,
          4.2,
          3.5,
          4.7,
          4.7,
          4.5,
          4.7,
          4.6,
          4.9,
          4.2,
          4.3,
          4.4,
          4.5,
          4.3,
          4.4,
          4.4,
          3,
          4.8,
          4.7,
          4,
          3.7,
          3.5,
          2.7,
          4.1,
          4.5,
          4.6,
          4.4,
          4.4,
          4.5,
          4.6,
          4.6,
          3.1,
          4.6,
          null,
          4.2,
          4.4,
          4.4,
          4.2,
          4.8,
          4.4,
          4.2,
          null,
          3.8,
          null,
          null,
          null,
          5,
          5,
          5,
          null,
          null,
          5,
          3.7,
          4.5,
          4.1,
          4.1,
          null,
          5,
          4.1,
          4.1,
          null,
          null,
          5,
          4.4,
          4.3,
          null,
          4.8,
          null,
          null,
          5,
          null,
          4.7,
          4.5,
          4,
          4.2,
          4.2,
          4.5,
          3.6,
          4.2,
          5,
          null,
          4.2,
          null,
          3.6,
          4.3,
          4.4,
          4,
          5,
          5,
          null,
          3.8,
          4.7,
          4.4,
          4.3,
          4,
          3.5,
          null,
          null,
          4.7,
          4.5,
          4.7,
          3,
          4.3,
          null,
          4.6,
          4.1,
          null,
          4.5,
          2.9,
          null,
          4.4,
          4.5,
          1.9,
          3.8,
          null,
          5,
          null,
          3.9,
          4.2,
          4.3,
          4.1,
          4.7,
          4.2,
          4,
          4.1,
          5,
          4.2,
          4,
          5,
          4.1,
          4.3,
          null,
          3.8,
          4.2,
          2.8,
          4.1,
          3.7,
          4.5,
          4.1,
          4.6,
          4.5,
          4.7,
          4.3,
          4.3,
          4.6,
          4.1,
          4.2,
          4.3,
          3.6,
          4.2,
          4.2,
          4.6,
          4.3,
          4.2,
          4.7,
          4.6,
          4.5,
          4.1,
          4.5,
          3.4,
          4.2,
          4.4,
          3.9,
          null,
          5,
          4.2,
          4.5,
          null,
          4.5,
          3.6,
          4.4,
          null,
          4.5,
          4.6,
          4.3,
          3.8,
          4,
          null,
          4.1,
          4.3,
          3.6,
          5,
          null,
          4.1,
          4.8,
          4.4,
          4.1,
          4.4,
          4.3,
          4.3,
          4.4,
          4.4,
          4.7,
          4.6,
          2.5,
          4.5,
          3.9,
          null,
          4,
          4.6,
          4.4,
          4.3,
          4,
          3.9,
          3.8,
          4.7,
          null,
          4.6,
          4.3,
          4.3,
          3.5,
          2.3,
          4.6,
          4.4,
          3.1,
          5,
          3.9,
          3.7,
          4.8,
          4.4,
          4.3,
          null,
          4.8,
          3.6,
          5,
          4.2,
          4.3,
          4.7,
          3.9,
          4.4,
          4.3,
          4.7,
          4.3,
          5,
          3.7,
          null,
          3.8,
          4.6,
          3.9,
          4.5,
          4,
          3.9,
          4.5,
          4.3,
          3.9,
          4.4,
          4,
          4.2,
          4.4,
          3.2,
          2.2,
          null,
          4.5,
          3.8,
          null,
          null,
          3.7,
          5,
          3.9,
          5,
          null,
          4.4,
          4.2,
          4.2,
          3.2,
          3.2,
          4.1,
          3.3,
          4,
          4.2,
          4.1,
          4.3,
          4.4,
          3.1,
          3.1,
          3.4,
          3.9,
          3.9,
          4.5,
          3,
          null,
          3.8,
          3.8,
          4.8,
          4.8,
          4.5,
          null,
          4.5,
          4.5,
          4.3,
          4.1,
          3.3,
          4.4,
          4.8,
          3.5,
          4.4,
          3.5,
          4.6,
          4.2,
          4,
          3.8,
          null,
          3.7,
          4.6,
          4,
          4.8,
          4.5,
          4.4,
          4.2,
          4.3,
          4,
          null,
          4.3,
          4.6,
          5,
          4.4,
          4.7,
          null,
          4.6,
          4.3,
          4.4,
          3.5,
          4.7,
          4.2,
          4.6,
          null,
          null,
          4.3,
          3.9,
          3,
          4.1,
          4.2,
          4,
          4.1,
          4.3,
          5,
          null,
          4.1,
          3.8,
          4.3,
          4.2,
          4.3,
          4.2,
          4,
          2.9,
          4.5,
          4.4,
          4.1,
          4.4,
          4.1,
          4.3,
          3.6,
          2.8,
          3.9,
          3.8,
          3.7,
          3.2,
          3.1,
          4.1,
          4.5,
          null,
          4.4,
          5,
          4.8,
          4.6,
          4.1,
          null,
          4,
          4.6,
          4.3,
          4.1,
          2.8,
          5,
          5,
          null,
          5,
          4.1,
          null,
          null,
          4.6,
          4.5,
          4.5,
          3.3,
          4.7,
          4,
          4.6,
          4.7,
          4,
          3.1,
          3.7,
          4.5,
          4.3,
          4.3,
          4.1,
          4.1,
          4.3,
          4.4,
          4.3,
          null,
          4.7,
          4.2,
          4.5,
          4.8,
          4.5,
          4.2,
          4.2,
          4.5,
          4.4,
          3.8,
          4.3,
          4.6,
          4.9,
          4.1,
          4.2,
          4,
          4.2,
          4.2,
          3.5,
          3.9,
          4.1,
          4.4,
          4.2,
          4.4,
          4.3,
          4,
          4.5,
          3.7,
          3.4,
          4.7,
          4.4,
          4.1,
          4.4,
          3.9,
          4.3,
          4.2,
          4,
          4.9,
          null,
          4.6,
          4.3,
          4.8,
          3.5,
          null,
          4.6,
          3.8,
          4.6,
          5,
          3.8,
          3.8,
          4.8,
          4.4,
          null,
          4.1,
          4.4,
          4.3,
          null,
          4.3,
          4.5,
          4.3,
          5,
          4.6,
          4.5,
          4.6,
          4.3,
          4,
          4.9,
          4.8,
          null,
          3.8,
          4.2,
          4.6,
          4.2,
          4.2,
          4.3,
          5,
          4.6,
          4.4,
          null,
          4.5,
          4.6,
          null,
          4,
          4.6,
          4.5,
          null,
          null,
          3.5,
          4,
          4.2,
          3.9,
          3.6,
          3,
          4,
          4.9,
          4.4,
          4.4,
          4,
          4.2,
          null,
          5,
          4.4,
          3.6,
          null,
          4.2,
          4,
          null,
          4.1,
          null,
          4.2,
          4.5,
          4.3,
          4.4,
          null,
          4.5,
          4,
          4,
          4.4,
          4.3,
          4.4,
          3.8,
          4.4,
          4.2,
          4.5,
          3.5,
          4.6,
          1.7,
          null,
          4.2,
          3.4,
          4.3,
          4.5,
          null,
          5,
          5,
          4.7,
          3.3,
          4,
          3.5,
          2.8,
          null,
          3.6,
          3.2,
          3.6,
          3.7,
          3.3,
          3.1,
          4.1,
          3.1,
          3.5,
          3.6,
          3,
          3.9,
          null,
          3.4,
          null,
          4.2,
          null,
          4.6,
          null,
          4.6,
          null,
          3,
          4.5,
          4.4,
          null,
          4.3,
          4.2,
          4.1,
          4.6,
          3.8,
          4.4,
          4,
          3.9,
          null,
          null,
          4.2,
          4.2,
          3.7,
          4,
          4.2,
          3.9,
          4.2,
          3.9,
          4.1,
          4.5,
          4.1,
          4.1,
          4.1,
          3.9,
          3.9,
          4.4,
          3,
          null,
          4.1,
          null,
          null,
          null,
          2.9,
          4.5,
          3.7,
          3,
          null,
          3.2,
          3.6,
          3.2,
          4.7,
          4.4,
          3.9,
          4.3,
          2.6,
          4.1,
          4.2,
          4.3,
          null,
          4.4,
          4,
          4.7,
          3.9,
          3.8,
          4.3,
          3.8,
          4.2,
          3.6,
          3.5,
          4.8,
          4.3,
          4,
          3.5,
          5,
          4.9,
          null,
          5,
          null,
          4.5,
          null,
          4.5,
          5,
          3,
          null,
          4.1,
          null,
          4.1,
          4.7,
          null,
          4.9,
          5,
          5,
          4.6,
          5,
          4.3,
          4,
          4.3,
          4,
          4.2,
          4.2,
          4,
          3.9,
          4.8,
          4.1,
          4.3,
          4.4,
          null,
          4.6,
          4.7,
          4.5,
          3.7,
          3.4,
          4.4,
          4.5,
          null,
          4,
          4.6,
          3.8,
          4,
          4.5,
          4,
          4,
          4.7,
          null,
          4.4,
          4.3,
          null,
          null,
          4.3,
          4.5,
          4.6,
          4.6,
          4.7,
          4.2,
          4.5,
          4.3,
          4.5,
          4.6,
          4.5,
          4.4,
          3.4,
          4.5,
          null,
          5,
          null,
          4.3,
          null,
          4.1,
          3.9,
          4.3,
          4.1,
          3.6,
          3.5,
          3.9,
          3.9,
          3.8,
          4,
          4.5,
          3.6,
          3.9,
          4.3,
          4,
          3.7,
          3.9,
          4.2,
          3.5,
          4,
          3.8,
          4.1,
          4.2,
          4.1,
          4.4,
          3.7,
          null,
          4.7,
          3.8,
          4,
          4.2,
          3.8,
          3.9,
          4,
          3.1,
          3.5,
          4.5,
          4.7,
          4.1,
          3.9,
          4,
          3.1,
          4.4,
          3.3,
          4.6,
          4.7,
          4.6,
          4.6,
          4.5,
          3.6,
          4.6,
          3.9,
          4.3,
          3.7,
          4.3,
          4.4,
          4.7,
          4.5,
          4.2,
          3.6,
          null,
          null,
          3.8,
          1.9,
          4.5,
          null,
          4.4,
          5,
          null,
          3,
          4.2,
          null,
          null,
          3.3,
          4.4,
          4,
          4,
          4.6,
          3.6,
          3.9,
          4,
          4.4,
          4.3,
          4.2,
          4.2,
          3.9,
          3.8,
          4.5,
          3.8,
          4.5,
          3.3,
          3.7,
          3.9,
          4,
          4,
          4.5,
          4.3,
          3.7,
          3.9,
          4.3,
          null,
          4.7,
          4.7,
          null,
          4.3,
          3.8,
          4.3,
          3.4,
          null,
          null,
          null,
          4.4,
          3.8,
          3.4,
          4.5,
          4.2,
          4.2,
          4.4,
          3.9,
          3.9,
          3.8,
          3.9,
          4,
          4,
          4.1,
          5,
          4.2,
          4,
          4.9,
          3.5,
          4.6,
          2.8,
          1,
          null,
          null,
          null,
          null,
          5,
          3.8,
          null,
          null,
          3.3,
          null,
          null,
          null,
          null,
          4.1,
          null,
          4.8,
          4.1,
          3.9,
          4.1,
          3.9,
          3.6,
          3.7,
          4.3,
          4.5,
          null,
          4.8,
          5,
          4.4,
          null,
          null,
          5,
          null,
          null,
          null,
          4,
          null,
          4.4,
          null,
          4.4,
          4.2,
          3.3,
          3.9,
          4.1,
          4.7,
          3.7,
          2.9,
          3.2,
          4.1,
          4.2,
          4.5,
          4.3,
          4.4,
          4.3,
          4.2,
          4.3,
          4,
          4.2,
          3.9,
          4,
          3.8,
          3.7,
          4.4,
          4.9,
          4.7,
          4.6,
          4.3,
          4.2,
          4.6,
          2,
          4.4,
          4.5,
          4.1,
          4.9,
          4,
          null,
          3.7,
          5,
          3.8,
          3.9,
          4.6,
          null,
          4.8,
          4.1,
          4.3,
          4.6,
          null,
          3.9,
          null,
          3.4,
          null,
          4.5,
          4,
          3.6,
          4.1,
          4.2,
          null,
          null,
          4.9,
          4,
          4.7,
          4.1,
          4,
          5,
          null,
          4.2,
          4,
          4.5,
          5
         ]
        }
       ],
       "layout": {
        "shapes": [
         {
          "line": {
           "dash": "dashdot"
          },
          "type": "line",
          "x0": 4.179664179104478,
          "x1": 4.179664179104478,
          "y0": 0,
          "y1": 200
         }
        ],
        "template": {
         "data": {
          "bar": [
           {
            "error_x": {
             "color": "#2a3f5f"
            },
            "error_y": {
             "color": "#2a3f5f"
            },
            "marker": {
             "line": {
              "color": "#E5ECF6",
              "width": 0.5
             },
             "pattern": {
              "fillmode": "overlay",
              "size": 10,
              "solidity": 0.2
             }
            },
            "type": "bar"
           }
          ],
          "barpolar": [
           {
            "marker": {
             "line": {
              "color": "#E5ECF6",
              "width": 0.5
             },
             "pattern": {
              "fillmode": "overlay",
              "size": 10,
              "solidity": 0.2
             }
            },
            "type": "barpolar"
           }
          ],
          "carpet": [
           {
            "aaxis": {
             "endlinecolor": "#2a3f5f",
             "gridcolor": "white",
             "linecolor": "white",
             "minorgridcolor": "white",
             "startlinecolor": "#2a3f5f"
            },
            "baxis": {
             "endlinecolor": "#2a3f5f",
             "gridcolor": "white",
             "linecolor": "white",
             "minorgridcolor": "white",
             "startlinecolor": "#2a3f5f"
            },
            "type": "carpet"
           }
          ],
          "choropleth": [
           {
            "colorbar": {
             "outlinewidth": 0,
             "ticks": ""
            },
            "type": "choropleth"
           }
          ],
          "contour": [
           {
            "colorbar": {
             "outlinewidth": 0,
             "ticks": ""
            },
            "colorscale": [
             [
              0,
              "#0d0887"
             ],
             [
              0.1111111111111111,
              "#46039f"
             ],
             [
              0.2222222222222222,
              "#7201a8"
             ],
             [
              0.3333333333333333,
              "#9c179e"
             ],
             [
              0.4444444444444444,
              "#bd3786"
             ],
             [
              0.5555555555555556,
              "#d8576b"
             ],
             [
              0.6666666666666666,
              "#ed7953"
             ],
             [
              0.7777777777777778,
              "#fb9f3a"
             ],
             [
              0.8888888888888888,
              "#fdca26"
             ],
             [
              1,
              "#f0f921"
             ]
            ],
            "type": "contour"
           }
          ],
          "contourcarpet": [
           {
            "colorbar": {
             "outlinewidth": 0,
             "ticks": ""
            },
            "type": "contourcarpet"
           }
          ],
          "heatmap": [
           {
            "colorbar": {
             "outlinewidth": 0,
             "ticks": ""
            },
            "colorscale": [
             [
              0,
              "#0d0887"
             ],
             [
              0.1111111111111111,
              "#46039f"
             ],
             [
              0.2222222222222222,
              "#7201a8"
             ],
             [
              0.3333333333333333,
              "#9c179e"
             ],
             [
              0.4444444444444444,
              "#bd3786"
             ],
             [
              0.5555555555555556,
              "#d8576b"
             ],
             [
              0.6666666666666666,
              "#ed7953"
             ],
             [
              0.7777777777777778,
              "#fb9f3a"
             ],
             [
              0.8888888888888888,
              "#fdca26"
             ],
             [
              1,
              "#f0f921"
             ]
            ],
            "type": "heatmap"
           }
          ],
          "heatmapgl": [
           {
            "colorbar": {
             "outlinewidth": 0,
             "ticks": ""
            },
            "colorscale": [
             [
              0,
              "#0d0887"
             ],
             [
              0.1111111111111111,
              "#46039f"
             ],
             [
              0.2222222222222222,
              "#7201a8"
             ],
             [
              0.3333333333333333,
              "#9c179e"
             ],
             [
              0.4444444444444444,
              "#bd3786"
             ],
             [
              0.5555555555555556,
              "#d8576b"
             ],
             [
              0.6666666666666666,
              "#ed7953"
             ],
             [
              0.7777777777777778,
              "#fb9f3a"
             ],
             [
              0.8888888888888888,
              "#fdca26"
             ],
             [
              1,
              "#f0f921"
             ]
            ],
            "type": "heatmapgl"
           }
          ],
          "histogram": [
           {
            "marker": {
             "pattern": {
              "fillmode": "overlay",
              "size": 10,
              "solidity": 0.2
             }
            },
            "type": "histogram"
           }
          ],
          "histogram2d": [
           {
            "colorbar": {
             "outlinewidth": 0,
             "ticks": ""
            },
            "colorscale": [
             [
              0,
              "#0d0887"
             ],
             [
              0.1111111111111111,
              "#46039f"
             ],
             [
              0.2222222222222222,
              "#7201a8"
             ],
             [
              0.3333333333333333,
              "#9c179e"
             ],
             [
              0.4444444444444444,
              "#bd3786"
             ],
             [
              0.5555555555555556,
              "#d8576b"
             ],
             [
              0.6666666666666666,
              "#ed7953"
             ],
             [
              0.7777777777777778,
              "#fb9f3a"
             ],
             [
              0.8888888888888888,
              "#fdca26"
             ],
             [
              1,
              "#f0f921"
             ]
            ],
            "type": "histogram2d"
           }
          ],
          "histogram2dcontour": [
           {
            "colorbar": {
             "outlinewidth": 0,
             "ticks": ""
            },
            "colorscale": [
             [
              0,
              "#0d0887"
             ],
             [
              0.1111111111111111,
              "#46039f"
             ],
             [
              0.2222222222222222,
              "#7201a8"
             ],
             [
              0.3333333333333333,
              "#9c179e"
             ],
             [
              0.4444444444444444,
              "#bd3786"
             ],
             [
              0.5555555555555556,
              "#d8576b"
             ],
             [
              0.6666666666666666,
              "#ed7953"
             ],
             [
              0.7777777777777778,
              "#fb9f3a"
             ],
             [
              0.8888888888888888,
              "#fdca26"
             ],
             [
              1,
              "#f0f921"
             ]
            ],
            "type": "histogram2dcontour"
           }
          ],
          "mesh3d": [
           {
            "colorbar": {
             "outlinewidth": 0,
             "ticks": ""
            },
            "type": "mesh3d"
           }
          ],
          "parcoords": [
           {
            "line": {
             "colorbar": {
              "outlinewidth": 0,
              "ticks": ""
             }
            },
            "type": "parcoords"
           }
          ],
          "pie": [
           {
            "automargin": true,
            "type": "pie"
           }
          ],
          "scatter": [
           {
            "fillpattern": {
             "fillmode": "overlay",
             "size": 10,
             "solidity": 0.2
            },
            "type": "scatter"
           }
          ],
          "scatter3d": [
           {
            "line": {
             "colorbar": {
              "outlinewidth": 0,
              "ticks": ""
             }
            },
            "marker": {
             "colorbar": {
              "outlinewidth": 0,
              "ticks": ""
             }
            },
            "type": "scatter3d"
           }
          ],
          "scattercarpet": [
           {
            "marker": {
             "colorbar": {
              "outlinewidth": 0,
              "ticks": ""
             }
            },
            "type": "scattercarpet"
           }
          ],
          "scattergeo": [
           {
            "marker": {
             "colorbar": {
              "outlinewidth": 0,
              "ticks": ""
             }
            },
            "type": "scattergeo"
           }
          ],
          "scattergl": [
           {
            "marker": {
             "colorbar": {
              "outlinewidth": 0,
              "ticks": ""
             }
            },
            "type": "scattergl"
           }
          ],
          "scattermapbox": [
           {
            "marker": {
             "colorbar": {
              "outlinewidth": 0,
              "ticks": ""
             }
            },
            "type": "scattermapbox"
           }
          ],
          "scatterpolar": [
           {
            "marker": {
             "colorbar": {
              "outlinewidth": 0,
              "ticks": ""
             }
            },
            "type": "scatterpolar"
           }
          ],
          "scatterpolargl": [
           {
            "marker": {
             "colorbar": {
              "outlinewidth": 0,
              "ticks": ""
             }
            },
            "type": "scatterpolargl"
           }
          ],
          "scatterternary": [
           {
            "marker": {
             "colorbar": {
              "outlinewidth": 0,
              "ticks": ""
             }
            },
            "type": "scatterternary"
           }
          ],
          "surface": [
           {
            "colorbar": {
             "outlinewidth": 0,
             "ticks": ""
            },
            "colorscale": [
             [
              0,
              "#0d0887"
             ],
             [
              0.1111111111111111,
              "#46039f"
             ],
             [
              0.2222222222222222,
              "#7201a8"
             ],
             [
              0.3333333333333333,
              "#9c179e"
             ],
             [
              0.4444444444444444,
              "#bd3786"
             ],
             [
              0.5555555555555556,
              "#d8576b"
             ],
             [
              0.6666666666666666,
              "#ed7953"
             ],
             [
              0.7777777777777778,
              "#fb9f3a"
             ],
             [
              0.8888888888888888,
              "#fdca26"
             ],
             [
              1,
              "#f0f921"
             ]
            ],
            "type": "surface"
           }
          ],
          "table": [
           {
            "cells": {
             "fill": {
              "color": "#EBF0F8"
             },
             "line": {
              "color": "white"
             }
            },
            "header": {
             "fill": {
              "color": "#C8D4E3"
             },
             "line": {
              "color": "white"
             }
            },
            "type": "table"
           }
          ]
         },
         "layout": {
          "annotationdefaults": {
           "arrowcolor": "#2a3f5f",
           "arrowhead": 0,
           "arrowwidth": 1
          },
          "autotypenumbers": "strict",
          "coloraxis": {
           "colorbar": {
            "outlinewidth": 0,
            "ticks": ""
           }
          },
          "colorscale": {
           "diverging": [
            [
             0,
             "#8e0152"
            ],
            [
             0.1,
             "#c51b7d"
            ],
            [
             0.2,
             "#de77ae"
            ],
            [
             0.3,
             "#f1b6da"
            ],
            [
             0.4,
             "#fde0ef"
            ],
            [
             0.5,
             "#f7f7f7"
            ],
            [
             0.6,
             "#e6f5d0"
            ],
            [
             0.7,
             "#b8e186"
            ],
            [
             0.8,
             "#7fbc41"
            ],
            [
             0.9,
             "#4d9221"
            ],
            [
             1,
             "#276419"
            ]
           ],
           "sequential": [
            [
             0,
             "#0d0887"
            ],
            [
             0.1111111111111111,
             "#46039f"
            ],
            [
             0.2222222222222222,
             "#7201a8"
            ],
            [
             0.3333333333333333,
             "#9c179e"
            ],
            [
             0.4444444444444444,
             "#bd3786"
            ],
            [
             0.5555555555555556,
             "#d8576b"
            ],
            [
             0.6666666666666666,
             "#ed7953"
            ],
            [
             0.7777777777777778,
             "#fb9f3a"
            ],
            [
             0.8888888888888888,
             "#fdca26"
            ],
            [
             1,
             "#f0f921"
            ]
           ],
           "sequentialminus": [
            [
             0,
             "#0d0887"
            ],
            [
             0.1111111111111111,
             "#46039f"
            ],
            [
             0.2222222222222222,
             "#7201a8"
            ],
            [
             0.3333333333333333,
             "#9c179e"
            ],
            [
             0.4444444444444444,
             "#bd3786"
            ],
            [
             0.5555555555555556,
             "#d8576b"
            ],
            [
             0.6666666666666666,
             "#ed7953"
            ],
            [
             0.7777777777777778,
             "#fb9f3a"
            ],
            [
             0.8888888888888888,
             "#fdca26"
            ],
            [
             1,
             "#f0f921"
            ]
           ]
          },
          "colorway": [
           "#636efa",
           "#EF553B",
           "#00cc96",
           "#ab63fa",
           "#FFA15A",
           "#19d3f3",
           "#FF6692",
           "#B6E880",
           "#FF97FF",
           "#FECB52"
          ],
          "font": {
           "color": "#2a3f5f"
          },
          "geo": {
           "bgcolor": "white",
           "lakecolor": "white",
           "landcolor": "#E5ECF6",
           "showlakes": true,
           "showland": true,
           "subunitcolor": "white"
          },
          "hoverlabel": {
           "align": "left"
          },
          "hovermode": "closest",
          "mapbox": {
           "style": "light"
          },
          "paper_bgcolor": "white",
          "plot_bgcolor": "#E5ECF6",
          "polar": {
           "angularaxis": {
            "gridcolor": "white",
            "linecolor": "white",
            "ticks": ""
           },
           "bgcolor": "#E5ECF6",
           "radialaxis": {
            "gridcolor": "white",
            "linecolor": "white",
            "ticks": ""
           }
          },
          "scene": {
           "xaxis": {
            "backgroundcolor": "#E5ECF6",
            "gridcolor": "white",
            "gridwidth": 2,
            "linecolor": "white",
            "showbackground": true,
            "ticks": "",
            "zerolinecolor": "white"
           },
           "yaxis": {
            "backgroundcolor": "#E5ECF6",
            "gridcolor": "white",
            "gridwidth": 2,
            "linecolor": "white",
            "showbackground": true,
            "ticks": "",
            "zerolinecolor": "white"
           },
           "zaxis": {
            "backgroundcolor": "#E5ECF6",
            "gridcolor": "white",
            "gridwidth": 2,
            "linecolor": "white",
            "showbackground": true,
            "ticks": "",
            "zerolinecolor": "white"
           }
          },
          "shapedefaults": {
           "line": {
            "color": "#2a3f5f"
           }
          },
          "ternary": {
           "aaxis": {
            "gridcolor": "white",
            "linecolor": "white",
            "ticks": ""
           },
           "baxis": {
            "gridcolor": "white",
            "linecolor": "white",
            "ticks": ""
           },
           "bgcolor": "#E5ECF6",
           "caxis": {
            "gridcolor": "white",
            "linecolor": "white",
            "ticks": ""
           }
          },
          "title": {
           "x": 0.05
          },
          "xaxis": {
           "automargin": true,
           "gridcolor": "white",
           "linecolor": "white",
           "ticks": "",
           "title": {
            "standoff": 15
           },
           "zerolinecolor": "white",
           "zerolinewidth": 2
          },
          "yaxis": {
           "automargin": true,
           "gridcolor": "white",
           "linecolor": "white",
           "ticks": "",
           "title": {
            "standoff": 15
           },
           "zerolinecolor": "white",
           "zerolinewidth": 2
          }
         }
        }
       }
      },
      "text/html": [
       "<div>                            <div id=\"5d6ed717-edcb-4b13-9fdc-f4e3c2c417e8\" class=\"plotly-graph-div\" style=\"height:525px; width:100%;\"></div>            <script type=\"text/javascript\">                require([\"plotly\"], function(Plotly) {                    window.PLOTLYENV=window.PLOTLYENV || {};                                    if (document.getElementById(\"5d6ed717-edcb-4b13-9fdc-f4e3c2c417e8\")) {                    Plotly.newPlot(                        \"5d6ed717-edcb-4b13-9fdc-f4e3c2c417e8\",                        [{\"x\":[4.4,4.4,4.5,4.6,4.5,4.3,4.7,4.5,4.5,4.4,4.3,4.6,4.2,4.5,4.3,4.5,4.4,4.4,4.8,4.4,4.3,4.6,4.5,4.5,4.5,4.0,4.6,4.5,4.5,4.4,4.5,4.5,4.2,4.3,4.5,4.2,4.3,4.4,4.6,4.5,4.2,4.5,4.6,4.6,4.1,4.5,4.6,4.6,4.5,4.3,3.8,4.5,4.1,4.8,3.9,4.5,4.4,4.3,4.2,3.0,4.1,4.5,4.6,4.3,4.3,4.5,4.2,4.2,4.4,4.5,4.1,4.2,4.1,4.7,4.3,4.4,4.4,4.3,4.3,4.2,4.2,4.3,4.3,4.1,4.2,4.5,4.3,4.5,4.1,4.2,4.4,4.0,4.1,4.4,4.1,4.0,4.3,4.6,4.3,4.7,4.3,4.4,4.2,4.7,3.9,4.1,4.1,4.1,4.2,4.4,4.3,4.5,4.3,4.3,4.1,4.1,4.1,4.6,4.1,4.4,4.4,4.3,4.0,4.8,3.8,4.7,4.5,4.8,4.4,4.8,4.2,4.2,4.0,4.7,4.7,3.9,4.5,4.1,4.4,3.9,4.4,3.6,4.4,4.1,3.6,4.6,4.3,4.5,4.4,4.1,3.9,4.1,3.9,4.2,3.8,4.3,3.9,4.0,4.0,4.0,4.3,4.3,4.2,4.3,4.2,4.6,4.1,4.5,4.5,4.3,4.2,3.9,3.7,4.3,4.6,4.6,4.6,4.8,4.3,4.4,3.3,4.4,3.7,4.8,3.8,4.6,4.4,4.4,4.9,4.6,4.6,3.9,4.5,4.5,4.5,4.3,4.7,4.6,4.7,3.6,4.3,4.3,4.5,4.4,4.6,3.7,4.5,4.8,4.0,4.7,4.8,4.6,4.3,4.2,4.8,4.2,4.5,4.4,4.6,4.3,3.3,4.4,3.1,3.9,4.4,4.8,3.6,4.4,4.3,4.3,4.2,1.0,4.4,4.4,null,4.3,4.4,4.2,3.8,4.3,3.9,3.7,3.0,4.5,4.2,4.2,3.7,2.8,4.4,4.0,4.0,4.3,3.3,4.2,4.1,3.5,4.6,4.1,4.7,3.9,4.7,4.6,4.4,4.3,4.8,4.1,3.7,4.2,4.5,4.6,null,4.9,4.6,null,4.8,4.3,4.2,4.8,4.0,4.3,4.0,4.1,4.6,3.1,4.0,4.5,4.4,4.3,4.4,3.5,3.7,3.9,4.3,4.1,4.4,3.8,4.4,3.8,4.7,4.3,4.2,4.5,4.5,3.5,4.1,4.4,4.0,4.4,3.8,3.8,null,4.2,4.1,4.4,4.1,4.8,3.8,3.9,4.4,3.9,3.8,null,4.2,4.1,4.4,4.4,null,4.1,3.9,3.5,3.2,null,null,null,4.8,3.8,4.1,4.2,null,null,4.2,4.3,4.1,3.7,4.1,3.0,4.4,4.2,4.2,4.2,4.5,4.3,4.6,3.4,2.4,2.4,4.2,3.6,3.2,3.9,4.4,4.1,3.9,3.3,3.8,4.5,4.2,4.3,4.7,3.6,4.3,4.7,4.6,4.3,3.2,3.3,4.5,4.2,3.8,2.7,4.5,4.6,4.4,4.6,4.4,4.4,4.2,4.8,4.2,4.6,4.5,4.2,3.9,4.2,4.2,4.3,4.6,4.1,4.6,3.8,4.5,4.7,4.5,4.5,4.3,3.9,4.3,4.2,4.5,null,1.8,1.6,3.3,3.0,4.5,4.1,4.6,3.7,4.3,4.2,4.4,3.9,4.7,4.3,3.9,4.4,4.6,null,4.2,4.5,4.4,null,null,null,null,4.5,null,3.9,4.1,3.0,null,null,null,null,4.5,3.8,3.0,4.4,4.0,3.9,4.6,3.8,4.6,3.3,3.2,4.3,4.4,3.3,null,3.9,4.6,4.5,4.5,4.4,2.8,4.6,4.1,5.0,null,4.6,null,4.5,5.0,4.4,4.0,null,3.9,4.3,3.9,3.7,4.6,3.0,4.1,null,null,3.6,3.6,4.5,4.3,4.6,4.7,4.8,4.7,4.6,4.5,4.7,4.7,3.9,4.0,4.4,3.6,4.2,3.5,4.2,4.1,4.5,4.4,3.8,3.5,4.6,4.6,4.7,4.5,4.2,4.2,3.7,3.4,4.3,4.6,4.3,4.7,3.8,4.3,3.7,2.9,4.3,4.3,3.3,5.0,4.6,4.5,2.9,4.6,4.7,4.7,3.7,4.8,4.6,4.4,4.7,4.4,2.9,4.5,5.0,3.7,null,4.2,5.0,4.7,4.3,3.9,null,4.4,null,4.6,4.5,5.0,5.0,5.0,null,4.4,4.6,4.1,4.5,4.2,4.7,4.3,4.2,4.3,4.3,4.7,3.7,3.2,4.0,3.8,4.4,3.8,3.4,2.9,3.7,null,3.0,4.1,3.8,4.4,4.5,3.6,3.6,4.1,4.3,4.4,4.4,2.4,4.5,3.4,3.9,4.3,4.4,4.3,4.2,4.0,4.6,4.0,3.5,4.0,4.1,3.9,3.2,4.0,3.7,3.9,4.5,4.0,3.8,4.1,null,null,null,4.1,3.8,4.4,3.3,3.5,4.3,3.5,4.8,4.6,null,null,null,2.9,4.7,4.2,null,3.0,null,3.7,4.8,4.3,4.5,null,null,null,null,4.6,5.0,4.0,4.3,4.2,4.2,4.6,3.9,3.5,4.8,4.3,4.8,4.2,4.4,4.5,4.3,3.1,4.7,null,4.8,null,4.5,4.6,4.6,4.9,4.8,4.0,4.1,4.5,null,null,4.2,4.7,4.3,3.8,4.4,4.4,3.0,4.1,null,1.0,4.4,3.3,4.2,5.0,3.6,3.9,4.4,4.3,4.3,4.3,null,4.2,3.3,4.2,4.1,4.6,4.2,4.7,3.5,4.0,5.0,4.4,4.3,3.8,4.2,3.8,4.3,3.8,4.2,4.3,4.4,4.5,4.5,null,3.8,4.1,4.1,4.1,4.1,4.0,4.3,3.9,3.6,4.3,null,null,4.4,2.6,4.2,3.7,2.4,2.9,1.7,2.3,null,null,null,4.9,null,null,4.5,null,2.4,4.1,4.3,4.7,3.9,null,5.0,null,4.8,4.6,null,4.6,4.9,4.3,4.5,4.4,3.6,3.9,4.2,4.4,3.6,null,5.0,null,4.0,4.3,3.8,4.1,4.0,5.0,4.4,4.7,4.4,3.8,3.6,4.8,4.4,4.8,4.6,4.6,4.3,4.0,3.2,4.6,4.2,3.9,4.8,4.2,4.7,4.2,4.5,4.3,null,5.0,null,null,null,1.9,4.3,4.5,4.5,4.2,4.0,null,null,4.3,4.7,3.8,4.3,4.6,4.5,3.9,3.2,4.6,4.1,4.6,2.3,4.5,4.4,4.5,null,4.3,4.5,null,4.4,null,4.9,null,4.6,null,4.8,null,4.6,4.6,4.6,5.0,3.9,3.9,4.2,null,null,4.0,3.7,4.6,4.5,4.3,4.4,4.6,null,4.4,4.4,5.0,null,4.4,1.8,5.0,null,4.5,5.0,4.5,4.7,4.6,null,4.5,null,3.5,null,4.3,5.0,4.2,4.0,null,4.6,null,4.3,4.3,null,3.8,4.4,4.2,3.8,3.7,4.7,4.2,3.5,4.7,4.7,4.5,4.7,4.6,4.9,4.2,4.3,4.4,4.5,4.3,4.4,4.4,3.0,4.8,4.7,4.0,3.7,3.5,2.7,4.1,4.5,4.6,4.4,4.4,4.5,4.6,4.6,3.1,4.6,null,4.2,4.4,4.4,4.2,4.8,4.4,4.2,null,3.8,null,null,null,5.0,5.0,5.0,null,null,5.0,3.7,4.5,4.1,4.1,null,5.0,4.1,4.1,null,null,5.0,4.4,4.3,null,4.8,null,null,5.0,null,4.7,4.5,4.0,4.2,4.2,4.5,3.6,4.2,5.0,null,4.2,null,3.6,4.3,4.4,4.0,5.0,5.0,null,3.8,4.7,4.4,4.3,4.0,3.5,null,null,4.7,4.5,4.7,3.0,4.3,null,4.6,4.1,null,4.5,2.9,null,4.4,4.5,1.9,3.8,null,5.0,null,3.9,4.2,4.3,4.1,4.7,4.2,4.0,4.1,5.0,4.2,4.0,5.0,4.1,4.3,null,3.8,4.2,2.8,4.1,3.7,4.5,4.1,4.6,4.5,4.7,4.3,4.3,4.6,4.1,4.2,4.3,3.6,4.2,4.2,4.6,4.3,4.2,4.7,4.6,4.5,4.1,4.5,3.4,4.2,4.4,3.9,null,5.0,4.2,4.5,null,4.5,3.6,4.4,null,4.5,4.6,4.3,3.8,4.0,null,4.1,4.3,3.6,5.0,null,4.1,4.8,4.4,4.1,4.4,4.3,4.3,4.4,4.4,4.7,4.6,2.5,4.5,3.9,null,4.0,4.6,4.4,4.3,4.0,3.9,3.8,4.7,null,4.6,4.3,4.3,3.5,2.3,4.6,4.4,3.1,5.0,3.9,3.7,4.8,4.4,4.3,null,4.8,3.6,5.0,4.2,4.3,4.7,3.9,4.4,4.3,4.7,4.3,5.0,3.7,null,3.8,4.6,3.9,4.5,4.0,3.9,4.5,4.3,3.9,4.4,4.0,4.2,4.4,3.2,2.2,null,4.5,3.8,null,null,3.7,5.0,3.9,5.0,null,4.4,4.2,4.2,3.2,3.2,4.1,3.3,4.0,4.2,4.1,4.3,4.4,3.1,3.1,3.4,3.9,3.9,4.5,3.0,null,3.8,3.8,4.8,4.8,4.5,null,4.5,4.5,4.3,4.1,3.3,4.4,4.8,3.5,4.4,3.5,4.6,4.2,4.0,3.8,null,3.7,4.6,4.0,4.8,4.5,4.4,4.2,4.3,4.0,null,4.3,4.6,5.0,4.4,4.7,null,4.6,4.3,4.4,3.5,4.7,4.2,4.6,null,null,4.3,3.9,3.0,4.1,4.2,4.0,4.1,4.3,5.0,null,4.1,3.8,4.3,4.2,4.3,4.2,4.0,2.9,4.5,4.4,4.1,4.4,4.1,4.3,3.6,2.8,3.9,3.8,3.7,3.2,3.1,4.1,4.5,null,4.4,5.0,4.8,4.6,4.1,null,4.0,4.6,4.3,4.1,2.8,5.0,5.0,null,5.0,4.1,null,null,4.6,4.5,4.5,3.3,4.7,4.0,4.6,4.7,4.0,3.1,3.7,4.5,4.3,4.3,4.1,4.1,4.3,4.4,4.3,null,4.7,4.2,4.5,4.8,4.5,4.2,4.2,4.5,4.4,3.8,4.3,4.6,4.9,4.1,4.2,4.0,4.2,4.2,3.5,3.9,4.1,4.4,4.2,4.4,4.3,4.0,4.5,3.7,3.4,4.7,4.4,4.1,4.4,3.9,4.3,4.2,4.0,4.9,null,4.6,4.3,4.8,3.5,null,4.6,3.8,4.6,5.0,3.8,3.8,4.8,4.4,null,4.1,4.4,4.3,null,4.3,4.5,4.3,5.0,4.6,4.5,4.6,4.3,4.0,4.9,4.8,null,3.8,4.2,4.6,4.2,4.2,4.3,5.0,4.6,4.4,null,4.5,4.6,null,4.0,4.6,4.5,null,null,3.5,4.0,4.2,3.9,3.6,3.0,4.0,4.9,4.4,4.4,4.0,4.2,null,5.0,4.4,3.6,null,4.2,4.0,null,4.1,null,4.2,4.5,4.3,4.4,null,4.5,4.0,4.0,4.4,4.3,4.4,3.8,4.4,4.2,4.5,3.5,4.6,1.7,null,4.2,3.4,4.3,4.5,null,5.0,5.0,4.7,3.3,4.0,3.5,2.8,null,3.6,3.2,3.6,3.7,3.3,3.1,4.1,3.1,3.5,3.6,3.0,3.9,null,3.4,null,4.2,null,4.6,null,4.6,null,3.0,4.5,4.4,null,4.3,4.2,4.1,4.6,3.8,4.4,4.0,3.9,null,null,4.2,4.2,3.7,4.0,4.2,3.9,4.2,3.9,4.1,4.5,4.1,4.1,4.1,3.9,3.9,4.4,3.0,null,4.1,null,null,null,2.9,4.5,3.7,3.0,null,3.2,3.6,3.2,4.7,4.4,3.9,4.3,2.6,4.1,4.2,4.3,null,4.4,4.0,4.7,3.9,3.8,4.3,3.8,4.2,3.6,3.5,4.8,4.3,4.0,3.5,5.0,4.9,null,5.0,null,4.5,null,4.5,5.0,3.0,null,4.1,null,4.1,4.7,null,4.9,5.0,5.0,4.6,5.0,4.3,4.0,4.3,4.0,4.2,4.2,4.0,3.9,4.8,4.1,4.3,4.4,null,4.6,4.7,4.5,3.7,3.4,4.4,4.5,null,4.0,4.6,3.8,4.0,4.5,4.0,4.0,4.7,null,4.4,4.3,null,null,4.3,4.5,4.6,4.6,4.7,4.2,4.5,4.3,4.5,4.6,4.5,4.4,3.4,4.5,null,5.0,null,4.3,null,4.1,3.9,4.3,4.1,3.6,3.5,3.9,3.9,3.8,4.0,4.5,3.6,3.9,4.3,4.0,3.7,3.9,4.2,3.5,4.0,3.8,4.1,4.2,4.1,4.4,3.7,null,4.7,3.8,4.0,4.2,3.8,3.9,4.0,3.1,3.5,4.5,4.7,4.1,3.9,4.0,3.1,4.4,3.3,4.6,4.7,4.6,4.6,4.5,3.6,4.6,3.9,4.3,3.7,4.3,4.4,4.7,4.5,4.2,3.6,null,null,3.8,1.9,4.5,null,4.4,5.0,null,3.0,4.2,null,null,3.3,4.4,4.0,4.0,4.6,3.6,3.9,4.0,4.4,4.3,4.2,4.2,3.9,3.8,4.5,3.8,4.5,3.3,3.7,3.9,4.0,4.0,4.5,4.3,3.7,3.9,4.3,null,4.7,4.7,null,4.3,3.8,4.3,3.4,null,null,null,4.4,3.8,3.4,4.5,4.2,4.2,4.4,3.9,3.9,3.8,3.9,4.0,4.0,4.1,5.0,4.2,4.0,4.9,3.5,4.6,2.8,1.0,null,null,null,null,5.0,3.8,null,null,3.3,null,null,null,null,4.1,null,4.8,4.1,3.9,4.1,3.9,3.6,3.7,4.3,4.5,null,4.8,5.0,4.4,null,null,5.0,null,null,null,4.0,null,4.4,null,4.4,4.2,3.3,3.9,4.1,4.7,3.7,2.9,3.2,4.1,4.2,4.5,4.3,4.4,4.3,4.2,4.3,4.0,4.2,3.9,4.0,3.8,3.7,4.4,4.9,4.7,4.6,4.3,4.2,4.6,2.0,4.4,4.5,4.1,4.9,4.0,null,3.7,5.0,3.8,3.9,4.6,null,4.8,4.1,4.3,4.6,null,3.9,null,3.4,null,4.5,4.0,3.6,4.1,4.2,null,null,4.9,4.0,4.7,4.1,4.0,5.0,null,4.2,4.0,4.5,5.0],\"type\":\"histogram\"}],                        {\"shapes\":[{\"line\":{\"dash\":\"dashdot\"},\"type\":\"line\",\"x0\":4.179664179104478,\"x1\":4.179664179104478,\"y0\":0,\"y1\":200}],\"template\":{\"data\":{\"barpolar\":[{\"marker\":{\"line\":{\"color\":\"#E5ECF6\",\"width\":0.5},\"pattern\":{\"fillmode\":\"overlay\",\"size\":10,\"solidity\":0.2}},\"type\":\"barpolar\"}],\"bar\":[{\"error_x\":{\"color\":\"#2a3f5f\"},\"error_y\":{\"color\":\"#2a3f5f\"},\"marker\":{\"line\":{\"color\":\"#E5ECF6\",\"width\":0.5},\"pattern\":{\"fillmode\":\"overlay\",\"size\":10,\"solidity\":0.2}},\"type\":\"bar\"}],\"carpet\":[{\"aaxis\":{\"endlinecolor\":\"#2a3f5f\",\"gridcolor\":\"white\",\"linecolor\":\"white\",\"minorgridcolor\":\"white\",\"startlinecolor\":\"#2a3f5f\"},\"baxis\":{\"endlinecolor\":\"#2a3f5f\",\"gridcolor\":\"white\",\"linecolor\":\"white\",\"minorgridcolor\":\"white\",\"startlinecolor\":\"#2a3f5f\"},\"type\":\"carpet\"}],\"choropleth\":[{\"colorbar\":{\"outlinewidth\":0,\"ticks\":\"\"},\"type\":\"choropleth\"}],\"contourcarpet\":[{\"colorbar\":{\"outlinewidth\":0,\"ticks\":\"\"},\"type\":\"contourcarpet\"}],\"contour\":[{\"colorbar\":{\"outlinewidth\":0,\"ticks\":\"\"},\"colorscale\":[[0.0,\"#0d0887\"],[0.1111111111111111,\"#46039f\"],[0.2222222222222222,\"#7201a8\"],[0.3333333333333333,\"#9c179e\"],[0.4444444444444444,\"#bd3786\"],[0.5555555555555556,\"#d8576b\"],[0.6666666666666666,\"#ed7953\"],[0.7777777777777778,\"#fb9f3a\"],[0.8888888888888888,\"#fdca26\"],[1.0,\"#f0f921\"]],\"type\":\"contour\"}],\"heatmapgl\":[{\"colorbar\":{\"outlinewidth\":0,\"ticks\":\"\"},\"colorscale\":[[0.0,\"#0d0887\"],[0.1111111111111111,\"#46039f\"],[0.2222222222222222,\"#7201a8\"],[0.3333333333333333,\"#9c179e\"],[0.4444444444444444,\"#bd3786\"],[0.5555555555555556,\"#d8576b\"],[0.6666666666666666,\"#ed7953\"],[0.7777777777777778,\"#fb9f3a\"],[0.8888888888888888,\"#fdca26\"],[1.0,\"#f0f921\"]],\"type\":\"heatmapgl\"}],\"heatmap\":[{\"colorbar\":{\"outlinewidth\":0,\"ticks\":\"\"},\"colorscale\":[[0.0,\"#0d0887\"],[0.1111111111111111,\"#46039f\"],[0.2222222222222222,\"#7201a8\"],[0.3333333333333333,\"#9c179e\"],[0.4444444444444444,\"#bd3786\"],[0.5555555555555556,\"#d8576b\"],[0.6666666666666666,\"#ed7953\"],[0.7777777777777778,\"#fb9f3a\"],[0.8888888888888888,\"#fdca26\"],[1.0,\"#f0f921\"]],\"type\":\"heatmap\"}],\"histogram2dcontour\":[{\"colorbar\":{\"outlinewidth\":0,\"ticks\":\"\"},\"colorscale\":[[0.0,\"#0d0887\"],[0.1111111111111111,\"#46039f\"],[0.2222222222222222,\"#7201a8\"],[0.3333333333333333,\"#9c179e\"],[0.4444444444444444,\"#bd3786\"],[0.5555555555555556,\"#d8576b\"],[0.6666666666666666,\"#ed7953\"],[0.7777777777777778,\"#fb9f3a\"],[0.8888888888888888,\"#fdca26\"],[1.0,\"#f0f921\"]],\"type\":\"histogram2dcontour\"}],\"histogram2d\":[{\"colorbar\":{\"outlinewidth\":0,\"ticks\":\"\"},\"colorscale\":[[0.0,\"#0d0887\"],[0.1111111111111111,\"#46039f\"],[0.2222222222222222,\"#7201a8\"],[0.3333333333333333,\"#9c179e\"],[0.4444444444444444,\"#bd3786\"],[0.5555555555555556,\"#d8576b\"],[0.6666666666666666,\"#ed7953\"],[0.7777777777777778,\"#fb9f3a\"],[0.8888888888888888,\"#fdca26\"],[1.0,\"#f0f921\"]],\"type\":\"histogram2d\"}],\"histogram\":[{\"marker\":{\"pattern\":{\"fillmode\":\"overlay\",\"size\":10,\"solidity\":0.2}},\"type\":\"histogram\"}],\"mesh3d\":[{\"colorbar\":{\"outlinewidth\":0,\"ticks\":\"\"},\"type\":\"mesh3d\"}],\"parcoords\":[{\"line\":{\"colorbar\":{\"outlinewidth\":0,\"ticks\":\"\"}},\"type\":\"parcoords\"}],\"pie\":[{\"automargin\":true,\"type\":\"pie\"}],\"scatter3d\":[{\"line\":{\"colorbar\":{\"outlinewidth\":0,\"ticks\":\"\"}},\"marker\":{\"colorbar\":{\"outlinewidth\":0,\"ticks\":\"\"}},\"type\":\"scatter3d\"}],\"scattercarpet\":[{\"marker\":{\"colorbar\":{\"outlinewidth\":0,\"ticks\":\"\"}},\"type\":\"scattercarpet\"}],\"scattergeo\":[{\"marker\":{\"colorbar\":{\"outlinewidth\":0,\"ticks\":\"\"}},\"type\":\"scattergeo\"}],\"scattergl\":[{\"marker\":{\"colorbar\":{\"outlinewidth\":0,\"ticks\":\"\"}},\"type\":\"scattergl\"}],\"scattermapbox\":[{\"marker\":{\"colorbar\":{\"outlinewidth\":0,\"ticks\":\"\"}},\"type\":\"scattermapbox\"}],\"scatterpolargl\":[{\"marker\":{\"colorbar\":{\"outlinewidth\":0,\"ticks\":\"\"}},\"type\":\"scatterpolargl\"}],\"scatterpolar\":[{\"marker\":{\"colorbar\":{\"outlinewidth\":0,\"ticks\":\"\"}},\"type\":\"scatterpolar\"}],\"scatter\":[{\"fillpattern\":{\"fillmode\":\"overlay\",\"size\":10,\"solidity\":0.2},\"type\":\"scatter\"}],\"scatterternary\":[{\"marker\":{\"colorbar\":{\"outlinewidth\":0,\"ticks\":\"\"}},\"type\":\"scatterternary\"}],\"surface\":[{\"colorbar\":{\"outlinewidth\":0,\"ticks\":\"\"},\"colorscale\":[[0.0,\"#0d0887\"],[0.1111111111111111,\"#46039f\"],[0.2222222222222222,\"#7201a8\"],[0.3333333333333333,\"#9c179e\"],[0.4444444444444444,\"#bd3786\"],[0.5555555555555556,\"#d8576b\"],[0.6666666666666666,\"#ed7953\"],[0.7777777777777778,\"#fb9f3a\"],[0.8888888888888888,\"#fdca26\"],[1.0,\"#f0f921\"]],\"type\":\"surface\"}],\"table\":[{\"cells\":{\"fill\":{\"color\":\"#EBF0F8\"},\"line\":{\"color\":\"white\"}},\"header\":{\"fill\":{\"color\":\"#C8D4E3\"},\"line\":{\"color\":\"white\"}},\"type\":\"table\"}]},\"layout\":{\"annotationdefaults\":{\"arrowcolor\":\"#2a3f5f\",\"arrowhead\":0,\"arrowwidth\":1},\"autotypenumbers\":\"strict\",\"coloraxis\":{\"colorbar\":{\"outlinewidth\":0,\"ticks\":\"\"}},\"colorscale\":{\"diverging\":[[0,\"#8e0152\"],[0.1,\"#c51b7d\"],[0.2,\"#de77ae\"],[0.3,\"#f1b6da\"],[0.4,\"#fde0ef\"],[0.5,\"#f7f7f7\"],[0.6,\"#e6f5d0\"],[0.7,\"#b8e186\"],[0.8,\"#7fbc41\"],[0.9,\"#4d9221\"],[1,\"#276419\"]],\"sequential\":[[0.0,\"#0d0887\"],[0.1111111111111111,\"#46039f\"],[0.2222222222222222,\"#7201a8\"],[0.3333333333333333,\"#9c179e\"],[0.4444444444444444,\"#bd3786\"],[0.5555555555555556,\"#d8576b\"],[0.6666666666666666,\"#ed7953\"],[0.7777777777777778,\"#fb9f3a\"],[0.8888888888888888,\"#fdca26\"],[1.0,\"#f0f921\"]],\"sequentialminus\":[[0.0,\"#0d0887\"],[0.1111111111111111,\"#46039f\"],[0.2222222222222222,\"#7201a8\"],[0.3333333333333333,\"#9c179e\"],[0.4444444444444444,\"#bd3786\"],[0.5555555555555556,\"#d8576b\"],[0.6666666666666666,\"#ed7953\"],[0.7777777777777778,\"#fb9f3a\"],[0.8888888888888888,\"#fdca26\"],[1.0,\"#f0f921\"]]},\"colorway\":[\"#636efa\",\"#EF553B\",\"#00cc96\",\"#ab63fa\",\"#FFA15A\",\"#19d3f3\",\"#FF6692\",\"#B6E880\",\"#FF97FF\",\"#FECB52\"],\"font\":{\"color\":\"#2a3f5f\"},\"geo\":{\"bgcolor\":\"white\",\"lakecolor\":\"white\",\"landcolor\":\"#E5ECF6\",\"showlakes\":true,\"showland\":true,\"subunitcolor\":\"white\"},\"hoverlabel\":{\"align\":\"left\"},\"hovermode\":\"closest\",\"mapbox\":{\"style\":\"light\"},\"paper_bgcolor\":\"white\",\"plot_bgcolor\":\"#E5ECF6\",\"polar\":{\"angularaxis\":{\"gridcolor\":\"white\",\"linecolor\":\"white\",\"ticks\":\"\"},\"bgcolor\":\"#E5ECF6\",\"radialaxis\":{\"gridcolor\":\"white\",\"linecolor\":\"white\",\"ticks\":\"\"}},\"scene\":{\"xaxis\":{\"backgroundcolor\":\"#E5ECF6\",\"gridcolor\":\"white\",\"gridwidth\":2,\"linecolor\":\"white\",\"showbackground\":true,\"ticks\":\"\",\"zerolinecolor\":\"white\"},\"yaxis\":{\"backgroundcolor\":\"#E5ECF6\",\"gridcolor\":\"white\",\"gridwidth\":2,\"linecolor\":\"white\",\"showbackground\":true,\"ticks\":\"\",\"zerolinecolor\":\"white\"},\"zaxis\":{\"backgroundcolor\":\"#E5ECF6\",\"gridcolor\":\"white\",\"gridwidth\":2,\"linecolor\":\"white\",\"showbackground\":true,\"ticks\":\"\",\"zerolinecolor\":\"white\"}},\"shapedefaults\":{\"line\":{\"color\":\"#2a3f5f\"}},\"ternary\":{\"aaxis\":{\"gridcolor\":\"white\",\"linecolor\":\"white\",\"ticks\":\"\"},\"baxis\":{\"gridcolor\":\"white\",\"linecolor\":\"white\",\"ticks\":\"\"},\"bgcolor\":\"#E5ECF6\",\"caxis\":{\"gridcolor\":\"white\",\"linecolor\":\"white\",\"ticks\":\"\"}},\"title\":{\"x\":0.05},\"xaxis\":{\"automargin\":true,\"gridcolor\":\"white\",\"linecolor\":\"white\",\"ticks\":\"\",\"title\":{\"standoff\":15},\"zerolinecolor\":\"white\",\"zerolinewidth\":2},\"yaxis\":{\"automargin\":true,\"gridcolor\":\"white\",\"linecolor\":\"white\",\"ticks\":\"\",\"title\":{\"standoff\":15},\"zerolinecolor\":\"white\",\"zerolinewidth\":2}}}},                        {\"responsive\": true}                    ).then(function(){\n",
       "                            \n",
       "var gd = document.getElementById('5d6ed717-edcb-4b13-9fdc-f4e3c2c417e8');\n",
       "var x = new MutationObserver(function (mutations, observer) {{\n",
       "        var display = window.getComputedStyle(gd).display;\n",
       "        if (!display || display === 'none') {{\n",
       "            console.log([gd, 'removed!']);\n",
       "            Plotly.purge(gd);\n",
       "            observer.disconnect();\n",
       "        }}\n",
       "}});\n",
       "\n",
       "// Listen for the removal of the full notebook cells\n",
       "var notebookContainer = gd.closest('#notebook-container');\n",
       "if (notebookContainer) {{\n",
       "    x.observe(notebookContainer, {childList: true});\n",
       "}}\n",
       "\n",
       "// Listen for the clearing of the current output cell\n",
       "var outputEl = gd.closest('.output');\n",
       "if (outputEl) {{\n",
       "    x.observe(outputEl, {childList: true});\n",
       "}}\n",
       "\n",
       "                        })                };                });            </script>        </div>"
      ]
     },
     "metadata": {},
     "output_type": "display_data"
    }
   ],
   "source": [
    "# Average rating of apps\n",
    "avg_family_rating = family['Rating'].mean()\n",
    "print('Average app rating = ', avg_family_rating)\n",
    "\n",
    "# Distribution of apps according to their ratings\n",
    "data = [go.Histogram(\n",
    "        x = family['Rating'],\n",
    ")]\n",
    "\n",
    "# Vertical dashed line to indicate the average app rating\n",
    "layout = {'shapes': [{\n",
    "              'type' :'line',\n",
    "              'x0': avg_family_rating,\n",
    "              'y0': 0,\n",
    "              'x1': avg_family_rating,\n",
    "              'y1': 200,\n",
    "              'line': { 'dash': 'dashdot'}\n",
    "          }]\n",
    "          }\n",
    "\n",
    "plotly.offline.iplot({'data': data, 'layout': layout})"
   ]
  },
  {
   "cell_type": "markdown",
   "id": "02ec913e",
   "metadata": {},
   "source": [
    "Ahora veamos esa gráfica para las 5 primeras categorías con más apps"
   ]
  },
  {
   "cell_type": "code",
   "execution_count": 10,
   "id": "95dbae9c",
   "metadata": {},
   "outputs": [
    {
     "data": {
      "text/plain": [
       "FAMILY      1832\n",
       "GAME         959\n",
       "TOOLS        827\n",
       "BUSINESS     420\n",
       "MEDICAL      395\n",
       "Name: Category, dtype: int64"
      ]
     },
     "execution_count": 10,
     "metadata": {},
     "output_type": "execute_result"
    }
   ],
   "source": [
    "sorted_num_apps_in_category[:5]"
   ]
  },
  {
   "cell_type": "code",
   "execution_count": 11,
   "id": "a8f2f6cd",
   "metadata": {},
   "outputs": [
    {
     "name": "stdout",
     "output_type": "stream",
     "text": [
      "Average app rating =  4.173243045387998\n"
     ]
    },
    {
     "data": {
      "image/png": "[encoded data removed]",
      "text/plain": [
       "<Figure size 432x288 with 1 Axes>"
      ]
     },
     "metadata": {
      "needs_background": "light"
     },
     "output_type": "display_data"
    }
   ],
   "source": [
    "# Average rating of apps\n",
    "avg_app_rating = apps['Rating'].mean()\n",
    "print('Average app rating = ', avg_app_rating)\n",
    "\n",
    "plt.hist(apps[apps.Category==\"FAMILY\"]['Rating'], bins = 20, alpha = 0.7)\n",
    "plt.hist(apps[apps.Category==\"GAME\"]['Rating'], bins = 20, alpha = 0.7)\n",
    "plt.hist(apps[apps.Category==\"TOOLS\"]['Rating'], bins = 20, alpha = 0.7)\n",
    "plt.hist(apps[apps.Category==\"BUSSINESS\"]['Rating'], bins = 20, alpha = 0.7)\n",
    "plt.hist(apps[apps.Category==\"MEDICAL\"]['Rating'], bins = 20, alpha = 0.7)\n",
    "plt.plot([avg_app_rating,avg_app_rating], [0,400], color = 'black')\n",
    "\n",
    "plt.show()"
   ]
  },
  {
   "cell_type": "markdown",
   "id": "60d05100",
   "metadata": {},
   "source": [
    "Podemos ver que estas categorías tienen muy buen puntaje. La estadística le ayuda.\n",
    "\n",
    "Ahora veamos si el tamaño de la app afecta este puntaje, o el precio. Y si los usuarios prefieren apps gratis a pagas."
   ]
  },
  {
   "cell_type": "code",
   "execution_count": 12,
   "id": "cdd50144",
   "metadata": {},
   "outputs": [
    {
     "data": {
      "image/png": "[encoded data removed]",
      "text/plain": [
       "<Figure size 432x432 with 3 Axes>"
      ]
     },
     "metadata": {},
     "output_type": "display_data"
    },
    {
     "data": {
      "image/png": "[encoded data removed]",
      "text/plain": [
       "<Figure size 432x432 with 3 Axes>"
      ]
     },
     "metadata": {},
     "output_type": "display_data"
    }
   ],
   "source": [
    "import seaborn as sns\n",
    "sns.set_style(\"darkgrid\")\n",
    "import warnings\n",
    "warnings.filterwarnings(\"ignore\")\n",
    "\n",
    "# Select rows where both 'Rating' and 'Size' values are present (ie. the two values are not null)\n",
    "apps_rating_present = apps[apps['Rating'].isnull()==False]\n",
    "apps_with_size_and_rating_present = apps_rating_present[apps_rating_present['Size'].isnull()==False]\n",
    "\n",
    "# Subset for categories with at least 250 apps\n",
    "large_categories = apps_with_size_and_rating_present.groupby('Category').filter(lambda x: len(x) >= 250)\n",
    "\n",
    "# Plot size vs. rating\n",
    "plt1 = sns.jointplot(x = large_categories['Size'], y = large_categories['Rating'])\n",
    "\n",
    "# Select apps whose 'Type' is 'Paid'\n",
    "paid_apps = apps_with_size_and_rating_present[apps_with_size_and_rating_present['Type']=='Paid']\n",
    "\n",
    "# Plot price vs. rating\n",
    "plt2 = sns.jointplot(x = paid_apps['Price'], y = paid_apps['Rating'])"
   ]
  },
  {
   "cell_type": "code",
   "execution_count": 13,
   "id": "e452dbbe",
   "metadata": {},
   "outputs": [
    {
     "data": {
      "text/plain": [
       "Text(0.5, 1.0, 'App pricing trend across categories')"
      ]
     },
     "execution_count": 13,
     "metadata": {},
     "output_type": "execute_result"
    },
    {
     "data": {
      "image/png": "[encoded data removed]",
      "text/plain": [
       "<Figure size 1080x576 with 1 Axes>"
      ]
     },
     "metadata": {},
     "output_type": "display_data"
    }
   ],
   "source": [
    "fig, ax = plt.subplots()\n",
    "fig.set_size_inches(15, 8)\n",
    "\n",
    "# Select a few popular app categories\n",
    "popular_app_cats = apps[apps.Category.isin(['GAME', 'FAMILY', 'PHOTOGRAPHY',\n",
    "                                            'MEDICAL', 'TOOLS', 'FINANCE',\n",
    "                                            'LIFESTYLE','BUSINESS'])]\n",
    "\n",
    "# Examine the price trend by plotting Price vs Category\n",
    "ax = sns.stripplot(x = popular_app_cats['Price'], y = popular_app_cats['Category'], jitter=True, linewidth=1)\n",
    "ax.set_title('App pricing trend across categories')\n"
   ]
  },
  {
   "cell_type": "code",
   "execution_count": 14,
   "id": "a8c1e0db",
   "metadata": {},
   "outputs": [
    {
     "data": {
      "text/html": [
       "<div>\n",
       "<style scoped>\n",
       "    .dataframe tbody tr th:only-of-type {\n",
       "        vertical-align: middle;\n",
       "    }\n",
       "\n",
       "    .dataframe tbody tr th {\n",
       "        vertical-align: top;\n",
       "    }\n",
       "\n",
       "    .dataframe thead th {\n",
       "        text-align: right;\n",
       "    }\n",
       "</style>\n",
       "<table border=\"1\" class=\"dataframe\">\n",
       "  <thead>\n",
       "    <tr style=\"text-align: right;\">\n",
       "      <th></th>\n",
       "      <th>Category</th>\n",
       "      <th>App</th>\n",
       "      <th>Price</th>\n",
       "    </tr>\n",
       "  </thead>\n",
       "  <tbody>\n",
       "    <tr>\n",
       "      <th>4197</th>\n",
       "      <td>FAMILY</td>\n",
       "      <td>most expensive app (H)</td>\n",
       "      <td>399.99</td>\n",
       "    </tr>\n",
       "    <tr>\n",
       "      <th>4362</th>\n",
       "      <td>LIFESTYLE</td>\n",
       "      <td>💎 I'm rich</td>\n",
       "      <td>399.99</td>\n",
       "    </tr>\n",
       "    <tr>\n",
       "      <th>4367</th>\n",
       "      <td>LIFESTYLE</td>\n",
       "      <td>I'm Rich - Trump Edition</td>\n",
       "      <td>400.00</td>\n",
       "    </tr>\n",
       "    <tr>\n",
       "      <th>5351</th>\n",
       "      <td>LIFESTYLE</td>\n",
       "      <td>I am rich</td>\n",
       "      <td>399.99</td>\n",
       "    </tr>\n",
       "    <tr>\n",
       "      <th>5354</th>\n",
       "      <td>FAMILY</td>\n",
       "      <td>I am Rich Plus</td>\n",
       "      <td>399.99</td>\n",
       "    </tr>\n",
       "    <tr>\n",
       "      <th>5355</th>\n",
       "      <td>LIFESTYLE</td>\n",
       "      <td>I am rich VIP</td>\n",
       "      <td>299.99</td>\n",
       "    </tr>\n",
       "    <tr>\n",
       "      <th>5356</th>\n",
       "      <td>FINANCE</td>\n",
       "      <td>I Am Rich Premium</td>\n",
       "      <td>399.99</td>\n",
       "    </tr>\n",
       "    <tr>\n",
       "      <th>5357</th>\n",
       "      <td>LIFESTYLE</td>\n",
       "      <td>I am extremely Rich</td>\n",
       "      <td>379.99</td>\n",
       "    </tr>\n",
       "    <tr>\n",
       "      <th>5358</th>\n",
       "      <td>FINANCE</td>\n",
       "      <td>I am Rich!</td>\n",
       "      <td>399.99</td>\n",
       "    </tr>\n",
       "    <tr>\n",
       "      <th>5359</th>\n",
       "      <td>FINANCE</td>\n",
       "      <td>I am rich(premium)</td>\n",
       "      <td>399.99</td>\n",
       "    </tr>\n",
       "    <tr>\n",
       "      <th>5362</th>\n",
       "      <td>FAMILY</td>\n",
       "      <td>I Am Rich Pro</td>\n",
       "      <td>399.99</td>\n",
       "    </tr>\n",
       "    <tr>\n",
       "      <th>5364</th>\n",
       "      <td>FINANCE</td>\n",
       "      <td>I am rich (Most expensive app)</td>\n",
       "      <td>399.99</td>\n",
       "    </tr>\n",
       "    <tr>\n",
       "      <th>5366</th>\n",
       "      <td>FAMILY</td>\n",
       "      <td>I Am Rich</td>\n",
       "      <td>389.99</td>\n",
       "    </tr>\n",
       "    <tr>\n",
       "      <th>5369</th>\n",
       "      <td>FINANCE</td>\n",
       "      <td>I am Rich</td>\n",
       "      <td>399.99</td>\n",
       "    </tr>\n",
       "    <tr>\n",
       "      <th>5373</th>\n",
       "      <td>FINANCE</td>\n",
       "      <td>I AM RICH PRO PLUS</td>\n",
       "      <td>399.99</td>\n",
       "    </tr>\n",
       "    <tr>\n",
       "      <th>9917</th>\n",
       "      <td>FINANCE</td>\n",
       "      <td>Eu Sou Rico</td>\n",
       "      <td>394.99</td>\n",
       "    </tr>\n",
       "    <tr>\n",
       "      <th>9934</th>\n",
       "      <td>LIFESTYLE</td>\n",
       "      <td>I'm Rich/Eu sou Rico/أنا غني/我很有錢</td>\n",
       "      <td>399.99</td>\n",
       "    </tr>\n",
       "  </tbody>\n",
       "</table>\n",
       "</div>"
      ],
      "text/plain": [
       "       Category                                App   Price\n",
       "4197     FAMILY             most expensive app (H)  399.99\n",
       "4362  LIFESTYLE                         💎 I'm rich  399.99\n",
       "4367  LIFESTYLE           I'm Rich - Trump Edition  400.00\n",
       "5351  LIFESTYLE                          I am rich  399.99\n",
       "5354     FAMILY                     I am Rich Plus  399.99\n",
       "5355  LIFESTYLE                      I am rich VIP  299.99\n",
       "5356    FINANCE                  I Am Rich Premium  399.99\n",
       "5357  LIFESTYLE                I am extremely Rich  379.99\n",
       "5358    FINANCE                         I am Rich!  399.99\n",
       "5359    FINANCE                 I am rich(premium)  399.99\n",
       "5362     FAMILY                      I Am Rich Pro  399.99\n",
       "5364    FINANCE     I am rich (Most expensive app)  399.99\n",
       "5366     FAMILY                          I Am Rich  389.99\n",
       "5369    FINANCE                          I am Rich  399.99\n",
       "5373    FINANCE                 I AM RICH PRO PLUS  399.99\n",
       "9917    FINANCE                        Eu Sou Rico  394.99\n",
       "9934  LIFESTYLE  I'm Rich/Eu sou Rico/أنا غني/我很有錢  399.99"
      ]
     },
     "execution_count": 14,
     "metadata": {},
     "output_type": "execute_result"
    }
   ],
   "source": [
    "# Apps whose Price is greater than 200\n",
    "apps_above_200 = popular_app_cats[popular_app_cats['Price']>200]\n",
    "apps_above_200[['Category', 'App', 'Price']]"
   ]
  }
 ],
 "metadata": {
  "kernelspec": {
   "display_name": "Python 3 (ipykernel)",
   "language": "python",
   "name": "python3"
  },
  "language_info": {
   "codemirror_mode": {
    "name": "ipython",
    "version": 3
   },
   "file_extension": ".py",
   "mimetype": "text/x-python",
   "name": "python",
   "nbconvert_exporter": "python",
   "pygments_lexer": "ipython3",
   "version": "3.9.7"
  }
 },
 "nbformat": 4,
 "nbformat_minor": 5
}
