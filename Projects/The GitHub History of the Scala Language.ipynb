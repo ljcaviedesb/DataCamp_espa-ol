{
 "cells": [
  {
   "cell_type": "code",
   "execution_count": 1,
   "id": "3a6a0fc8",
   "metadata": {},
   "outputs": [],
   "source": [
    "import pandas as pd\n",
    "import matplotlib.pyplot as plt"
   ]
  },
  {
   "cell_type": "markdown",
   "id": "6528e475",
   "metadata": {},
   "source": [
    "Vamos a leer, visualizar y limpiar para ver quienes han tenido mayor influencia en desarrollo y quienes son expertos.\n",
    "\n",
    "Los datasets que se van a usar son:\n",
    "\n",
    "1. pulls_2011-2013.csv contains the basic information about the pull requests, and spans from the end of 2011 up to (but not including) 2014.\n",
    "2. pulls_2014-2018.csv contains identical information, and spans from 2014 up to 2018.\n",
    "3. pull_files.csv contains the files that were modified by each pull request."
   ]
  },
  {
   "cell_type": "code",
   "execution_count": 2,
   "id": "787f0e38",
   "metadata": {},
   "outputs": [],
   "source": [
    "# Loading in the data\n",
    "pulls_one = pd.read_csv('datasets/pulls_2011-2013.csv')\n",
    "pulls_two = pd.read_csv('datasets/pulls_2014-2018.csv')\n",
    "pull_files = pd.read_csv('datasets/pull_files.csv')"
   ]
  },
  {
   "cell_type": "code",
   "execution_count": 3,
   "id": "9f25493c",
   "metadata": {},
   "outputs": [
    {
     "name": "stdout",
     "output_type": "stream",
     "text": [
      "        pid         user                  date\n",
      "0  11166973  VladimirNik  2013-12-31T23:10:55Z\n",
      "1  11161892      Ichoran  2013-12-31T16:55:47Z \n",
      " (3296, 3) \n",
      "\n",
      "         pid      user                  date\n",
      "0  163314316    hrhino  2018-01-16T23:29:16Z\n",
      "1  163061502  joroKr21  2018-01-15T23:44:52Z \n",
      " (2904, 3) \n",
      "\n",
      "         pid                              file\n",
      "0  163314316   test/files/pos/t5638/Among.java\n",
      "1  163314316  test/files/pos/t5638/Usage.scala \n",
      " (85588, 2) \n",
      "\n"
     ]
    }
   ],
   "source": [
    "print( pulls_one.head(2), '\\n', pulls_one.shape, '\\n')\n",
    "print( pulls_two.head(2), '\\n', pulls_two.shape, '\\n')\n",
    "print( pull_files.head(2), '\\n', pull_files.shape, '\\n')"
   ]
  },
  {
   "cell_type": "markdown",
   "id": "53e02065",
   "metadata": {},
   "source": [
    "Ahora que sabemos qué tienen los datasets vamos a unir los df pulls one y two y convertiremos la columna \"date\" en datetime para que en el futuro próximo podamos llamar por meses, días o años."
   ]
  },
  {
   "cell_type": "code",
   "execution_count": 4,
   "id": "3f06cad2",
   "metadata": {},
   "outputs": [],
   "source": [
    "# Append pulls_one to pulls_two\n",
    "pulls = pulls_one.append(pulls_two)\n",
    "\n",
    "# Convert the date for the pulls object\n",
    "pulls['date'] = pd.to_datetime(pulls['date'], utc = True)"
   ]
  },
  {
   "cell_type": "code",
   "execution_count": 5,
   "id": "9e83e485",
   "metadata": {},
   "outputs": [
    {
     "data": {
      "text/plain": [
       "8771412     300\n",
       "5291974     300\n",
       "5524603     300\n",
       "75544664    300\n",
       "1148013     300\n",
       "           ... \n",
       "4841616       1\n",
       "4845973       1\n",
       "81733499      1\n",
       "4874168       1\n",
       "547003        1\n",
       "Name: pid, Length: 6179, dtype: int64"
      ]
     },
     "execution_count": 5,
     "metadata": {},
     "output_type": "execute_result"
    }
   ],
   "source": [
    "pull_files['pid'].value_counts()"
   ]
  },
  {
   "cell_type": "markdown",
   "id": "1c05ab76",
   "metadata": {},
   "source": [
    "Ahora podemos hacer merge entre los dos data frames. La razón para hacer esto es que si se dan cuenta en el \"pid\" de todos los datasets, tienene en común varios, el que recién unimos contiene usuarios y fechas y pull_files contiene los archivos que ha utilizado ese PersonID. Si hacemos merge podemos ampliar la info y tenerla más concreta en un solo lugar (df)."
   ]
  },
  {
   "cell_type": "code",
   "execution_count": 6,
   "id": "5f36daf8",
   "metadata": {},
   "outputs": [
    {
     "data": {
      "text/html": [
       "<div>\n",
       "<style scoped>\n",
       "    .dataframe tbody tr th:only-of-type {\n",
       "        vertical-align: middle;\n",
       "    }\n",
       "\n",
       "    .dataframe tbody tr th {\n",
       "        vertical-align: top;\n",
       "    }\n",
       "\n",
       "    .dataframe thead th {\n",
       "        text-align: right;\n",
       "    }\n",
       "</style>\n",
       "<table border=\"1\" class=\"dataframe\">\n",
       "  <thead>\n",
       "    <tr style=\"text-align: right;\">\n",
       "      <th></th>\n",
       "      <th>pid</th>\n",
       "      <th>user</th>\n",
       "      <th>date</th>\n",
       "      <th>file</th>\n",
       "    </tr>\n",
       "  </thead>\n",
       "  <tbody>\n",
       "    <tr>\n",
       "      <th>0</th>\n",
       "      <td>11166973</td>\n",
       "      <td>VladimirNik</td>\n",
       "      <td>2013-12-31 23:10:55+00:00</td>\n",
       "      <td>src/reflect/scala/reflect/api/Printers.scala</td>\n",
       "    </tr>\n",
       "    <tr>\n",
       "      <th>1</th>\n",
       "      <td>11166973</td>\n",
       "      <td>VladimirNik</td>\n",
       "      <td>2013-12-31 23:10:55+00:00</td>\n",
       "      <td>src/reflect/scala/reflect/internal/Printers.scala</td>\n",
       "    </tr>\n",
       "  </tbody>\n",
       "</table>\n",
       "</div>"
      ],
      "text/plain": [
       "        pid         user                      date  \\\n",
       "0  11166973  VladimirNik 2013-12-31 23:10:55+00:00   \n",
       "1  11166973  VladimirNik 2013-12-31 23:10:55+00:00   \n",
       "\n",
       "                                                file  \n",
       "0       src/reflect/scala/reflect/api/Printers.scala  \n",
       "1  src/reflect/scala/reflect/internal/Printers.scala  "
      ]
     },
     "execution_count": 6,
     "metadata": {},
     "output_type": "execute_result"
    }
   ],
   "source": [
    "# Merge the two DataFrames\n",
    "data = pulls.merge(pull_files, on = 'pid')\n",
    "data.head(2)"
   ]
  },
  {
   "cell_type": "markdown",
   "id": "e6a74008",
   "metadata": {},
   "source": [
    "Veamos cómo se distribuye la cantidad de commits durante los años"
   ]
  },
  {
   "cell_type": "code",
   "execution_count": 7,
   "id": "caf1278b",
   "metadata": {},
   "outputs": [
    {
     "data": {
      "text/plain": [
       "<AxesSubplot:xlabel='year'>"
      ]
     },
     "execution_count": 7,
     "metadata": {},
     "output_type": "execute_result"
    },
    {
     "data": {
      "image/png": "[encoded data removed]",
      "text/plain": [
       "<Figure size 864x288 with 1 Axes>"
      ]
     },
     "metadata": {
      "needs_background": "light"
     },
     "output_type": "display_data"
    }
   ],
   "source": [
    "# Create a column that will store the month\n",
    "data['month'] = data['date'].dt.month\n",
    "\n",
    "# Create a column that will store the year\n",
    "data['year'] = data['date'].dt.year\n",
    "\n",
    "# Group by the month and year and count the pull requests\n",
    "# counts = data.groupby(['month', 'year']).agg({'pid':'count'}) # mes y año\n",
    "counts = data.groupby(['year']).agg({'pid':'count'})   # solo año\n",
    "\n",
    "# Plot the results\n",
    "counts.plot(kind='bar', figsize = (12,4))"
   ]
  },
  {
   "cell_type": "markdown",
   "id": "959bf315",
   "metadata": {},
   "source": [
    "Ahora veamos quienes han contribuido más al proyecto"
   ]
  },
  {
   "cell_type": "code",
   "execution_count": 8,
   "id": "c95963d9",
   "metadata": {},
   "outputs": [
    {
     "data": {
      "text/plain": [
       "<AxesSubplot:xlabel='user'>"
      ]
     },
     "execution_count": 8,
     "metadata": {},
     "output_type": "execute_result"
    },
    {
     "data": {
      "image/png": "[encoded data removed]",
      "text/plain": [
       "<Figure size 432x288 with 1 Axes>"
      ]
     },
     "metadata": {
      "needs_background": "light"
     },
     "output_type": "display_data"
    }
   ],
   "source": [
    "# Group by the submitter\n",
    "by_user = data.groupby('user').agg({'pid':'count'})\n",
    "# Plot the histogram\n",
    "# by_user.plot(kind = 'hist') # DataCamp suguiere esto pero no le encuentro el sentifo\n",
    "by_user[by_user.pid>2000].plot(kind = 'bar')"
   ]
  },
  {
   "cell_type": "code",
   "execution_count": 9,
   "id": "6cc9678e",
   "metadata": {},
   "outputs": [
    {
     "data": {
      "text/plain": [
       "(464, 1)"
      ]
     },
     "execution_count": 9,
     "metadata": {},
     "output_type": "execute_result"
    }
   ],
   "source": [
    "by_user.shape"
   ]
  },
  {
   "cell_type": "markdown",
   "id": "4371a2d8",
   "metadata": {},
   "source": [
    "Vemos que de 464 usuarios solo 8 han tenido mayor contribuciones en el proyecto.\n",
    "\n",
    "Veamos ahora los 10 últimos pull requests."
   ]
  },
  {
   "cell_type": "code",
   "execution_count": 10,
   "id": "4383e84b",
   "metadata": {},
   "outputs": [
    {
     "data": {
      "text/plain": [
       "{'LICENSE',\n",
       " 'doc/LICENSE.md',\n",
       " 'doc/License.rtf',\n",
       " 'project/VersionUtil.scala',\n",
       " 'src/compiler/scala/reflect/reify/phases/Calculate.scala',\n",
       " 'src/compiler/scala/tools/nsc/backend/jvm/BCodeHelpers.scala',\n",
       " 'src/compiler/scala/tools/nsc/backend/jvm/PostProcessor.scala',\n",
       " 'src/compiler/scala/tools/nsc/backend/jvm/analysis/BackendUtils.scala',\n",
       " 'src/compiler/scala/tools/nsc/profile/AsyncHelper.scala',\n",
       " 'src/compiler/scala/tools/nsc/profile/Profiler.scala',\n",
       " 'src/compiler/scala/tools/nsc/symtab/classfile/ClassfileParser.scala',\n",
       " 'src/compiler/scala/tools/nsc/typechecker/Contexts.scala',\n",
       " 'src/library/scala/Predef.scala',\n",
       " 'src/library/scala/concurrent/Lock.scala',\n",
       " 'src/library/scala/util/Properties.scala',\n",
       " 'src/reflect/scala/reflect/internal/pickling/ByteCodecs.scala',\n",
       " 'src/reflect/scala/reflect/internal/tpe/GlbLubs.scala',\n",
       " 'src/scaladoc/scala/tools/nsc/doc/html/page/Entity.scala',\n",
       " 'src/scalap/decoder.properties',\n",
       " 'test/files/neg/leibniz-liskov.check',\n",
       " 'test/files/neg/leibniz-liskov.scala',\n",
       " 'test/files/pos/leibniz-liskov.scala',\n",
       " 'test/files/pos/leibniz_liskov.scala',\n",
       " 'test/files/pos/parallel-classloader.scala',\n",
       " 'test/files/pos/t10568/Converter.java',\n",
       " 'test/files/pos/t10568/Impl.scala',\n",
       " 'test/files/pos/t10686.scala',\n",
       " 'test/files/pos/t5638/Among.java',\n",
       " 'test/files/pos/t5638/Usage.scala',\n",
       " 'test/files/pos/t9291.scala',\n",
       " 'test/files/run/t8348.check',\n",
       " 'test/files/run/t8348/TableColumn.java',\n",
       " 'test/files/run/t8348/TableColumnImpl.java',\n",
       " 'test/files/run/t8348/Test.scala'}"
      ]
     },
     "execution_count": 10,
     "metadata": {},
     "output_type": "execute_result"
    }
   ],
   "source": [
    "# Identify the last 10 pull requests\n",
    "last_10 = pulls.sort_values('date', ascending = False)[0:10]\n",
    "\n",
    "# Join the two data sets\n",
    "joined_pr = last_10.merge(pull_files, on = 'pid')\n",
    "\n",
    "# Identify the unique files\n",
    "files = set(joined_pr['file'].unique())\n",
    "\n",
    "# Print the results\n",
    "files"
   ]
  },
  {
   "cell_type": "markdown",
   "id": "bf51f7df",
   "metadata": {},
   "source": [
    "Escogiendo un archivo, veamos quién hizo más pull request a este archivo."
   ]
  },
  {
   "cell_type": "code",
   "execution_count": 11,
   "id": "23a186fe",
   "metadata": {},
   "outputs": [
    {
     "name": "stdout",
     "output_type": "stream",
     "text": [
      "{'adriaanm', 'lrytz', 'retronym'}\n"
     ]
    }
   ],
   "source": [
    "# This is the file we are interested in:\n",
    "file = 'src/compiler/scala/tools/nsc/backend/jvm/BCodeHelpers.scala'\n",
    "\n",
    "# Identify the commits that changed the file\n",
    "file_pr = pull_files[pull_files['file']==file]\n",
    "\n",
    "# Count the number of changes made by each developer\n",
    "pulls_file = pd.merge(file_pr, pulls[['pid','user']], on='pid')\n",
    "author_counts = pulls_file.groupby('user').agg({'pid':'count'})\n",
    "\n",
    "# Print the top 3 developers\n",
    "print(set(author_counts.nlargest(3, 'pid').index))"
   ]
  },
  {
   "cell_type": "markdown",
   "id": "5d27e675",
   "metadata": {},
   "source": [
    "Ahora veamos qué tanto contribuyeron ellos tres en todo el proyecto"
   ]
  },
  {
   "cell_type": "code",
   "execution_count": 12,
   "id": "b2191872",
   "metadata": {},
   "outputs": [
    {
     "data": {
      "text/plain": [
       "<AxesSubplot:xlabel='date'>"
      ]
     },
     "execution_count": 12,
     "metadata": {},
     "output_type": "execute_result"
    },
    {
     "data": {
      "image/png": "[encoded data removed]",
      "text/plain": [
       "<Figure size 432x288 with 1 Axes>"
      ]
     },
     "metadata": {
      "needs_background": "light"
     },
     "output_type": "display_data"
    }
   ],
   "source": [
    "# The developers we are interested in\n",
    "authors = ['retronym', 'adriaanm', 'lrytz']\n",
    "\n",
    "# Get all the developers' pull requests\n",
    "by_author = pulls[pulls['user'].isin(authors)]\n",
    "\n",
    "# Count the number of pull requests submitted each year\n",
    "counts = by_author.groupby(['user', by_author['date'].dt.year]).agg({'pid': 'count'}).reset_index()\n",
    "counts\n",
    "# Convert the table to a wide format\n",
    "counts_wide = counts.pivot_table(index='date', columns='user', values='pid', fill_value=0)\n",
    "\n",
    "# Plot the results\n",
    "counts_wide.plot(kind = 'bar')"
   ]
  },
  {
   "cell_type": "markdown",
   "id": "760fbdc7",
   "metadata": {},
   "source": [
    "y en el archivo que escogimos mirar"
   ]
  },
  {
   "cell_type": "code",
   "execution_count": 13,
   "id": "eaef5830",
   "metadata": {},
   "outputs": [
    {
     "data": {
      "text/plain": [
       "<AxesSubplot:xlabel='date'>"
      ]
     },
     "execution_count": 13,
     "metadata": {},
     "output_type": "execute_result"
    },
    {
     "data": {
      "image/png": "[encoded data removed]",
      "text/plain": [
       "<Figure size 432x288 with 1 Axes>"
      ]
     },
     "metadata": {
      "needs_background": "light"
     },
     "output_type": "display_data"
    }
   ],
   "source": [
    "authors = ['retronym', 'adriaanm', 'lrytz']\n",
    "file = 'src/compiler/scala/tools/nsc/backend/jvm/BCodeHelpers.scala'\n",
    "\n",
    "# Select the pull requests submitted by the authors, from the `data` DataFrame\n",
    "by_author = data[data['user'].isin(authors)]\n",
    "\n",
    "# Select the pull requests that affect the file\n",
    "by_file = by_author[by_author['file']==file]\n",
    "\n",
    "# Group and count the number of PRs done by each user each year\n",
    "grouped = by_file.groupby(['user', by_file['date'].dt.year]).count()['pid'].reset_index()\n",
    "grouped.head(1)\n",
    "# Transform the data into a wide format\n",
    "by_file_wide = grouped.pivot_table(index ='date', columns = 'user', values = 'pid', fill_value=0)\n",
    "\n",
    "# Plot the results\n",
    "by_file_wide.plot(kind='bar')"
   ]
  },
  {
   "cell_type": "code",
   "execution_count": null,
   "id": "6188231c",
   "metadata": {},
   "outputs": [],
   "source": []
  }
 ],
 "metadata": {
  "kernelspec": {
   "display_name": "Python 3 (ipykernel)",
   "language": "python",
   "name": "python3"
  },
  "language_info": {
   "codemirror_mode": {
    "name": "ipython",
    "version": 3
   },
   "file_extension": ".py",
   "mimetype": "text/x-python",
   "name": "python",
   "nbconvert_exporter": "python",
   "pygments_lexer": "ipython3",
   "version": "3.9.7"
  }
 },
 "nbformat": 4,
 "nbformat_minor": 5
}
